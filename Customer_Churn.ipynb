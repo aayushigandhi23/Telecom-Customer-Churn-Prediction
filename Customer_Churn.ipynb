{
  "nbformat": 4,
  "nbformat_minor": 0,
  "metadata": {
    "kernelspec": {
      "display_name": "R",
      "language": "R",
      "name": "ir"
    },
    "language_info": {
      "mimetype": "text/x-r-source",
      "name": "R",
      "pygments_lexer": "r",
      "version": "3.4.2",
      "file_extension": ".r",
      "codemirror_mode": "r"
    },
    "colab": {
      "provenance": []
    }
  },
  "cells": [
    {
      "cell_type": "code",
      "metadata": {
        "colab": {
          "base_uri": "https://localhost:8080/"
        },
        "id": "2SlUuoqPbTJn",
        "outputId": "3e65c6d7-bbef-4e54-c0e7-52448e6c1a31"
      },
      "source": [
        "install.packages(\"car\")"
      ],
      "execution_count": null,
      "outputs": [
        {
          "output_type": "stream",
          "text": [
            "Installing package into ‘/usr/local/lib/R/site-library’\n",
            "(as ‘lib’ is unspecified)\n",
            "\n",
            "also installing the dependencies ‘matrixStats’, ‘RcppArmadillo’, ‘numDeriv’, ‘SparseM’, ‘MatrixModels’, ‘conquer’, ‘sp’, ‘openxlsx’, ‘minqa’, ‘nloptr’, ‘statmod’, ‘RcppEigen’, ‘carData’, ‘abind’, ‘pbkrtest’, ‘quantreg’, ‘maptools’, ‘rio’, ‘lme4’\n",
            "\n",
            "\n"
          ],
          "name": "stderr"
        }
      ]
    },
    {
      "cell_type": "code",
      "metadata": {
        "colab": {
          "base_uri": "https://localhost:8080/"
        },
        "id": "rXsnTUWkdT9G",
        "outputId": "19fc728f-c7fe-4101-b3c9-54af328b7ebc"
      },
      "source": [
        "install.packages(\"e1071\")"
      ],
      "execution_count": null,
      "outputs": [
        {
          "output_type": "stream",
          "text": [
            "Installing package into ‘/usr/local/lib/R/site-library’\n",
            "(as ‘lib’ is unspecified)\n",
            "\n",
            "also installing the dependency ‘proxy’\n",
            "\n",
            "\n"
          ],
          "name": "stderr"
        }
      ]
    },
    {
      "cell_type": "code",
      "metadata": {
        "colab": {
          "base_uri": "https://localhost:8080/"
        },
        "id": "4j87HvtvdeXY",
        "outputId": "fa621af0-8199-4f41-fd41-e911efd9b9a7"
      },
      "source": [
        "install.packages(\"caret\")"
      ],
      "execution_count": null,
      "outputs": [
        {
          "output_type": "stream",
          "text": [
            "Installing package into ‘/usr/local/lib/R/site-library’\n",
            "(as ‘lib’ is unspecified)\n",
            "\n",
            "also installing the dependencies ‘SQUAREM’, ‘lava’, ‘prodlim’, ‘iterators’, ‘gower’, ‘ipred’, ‘timeDate’, ‘foreach’, ‘plyr’, ‘ModelMetrics’, ‘reshape2’, ‘recipes’, ‘pROC’\n",
            "\n",
            "\n"
          ],
          "name": "stderr"
        }
      ]
    },
    {
      "cell_type": "code",
      "metadata": {
        "id": "rHPGF0UCdn1B",
        "colab": {
          "base_uri": "https://localhost:8080/"
        },
        "outputId": "88473042-84fa-4484-d56f-03f25086e7e5"
      },
      "source": [
        "install.packages(\"cowplot\")"
      ],
      "execution_count": null,
      "outputs": [
        {
          "output_type": "stream",
          "text": [
            "Installing package into ‘/usr/local/lib/R/site-library’\n",
            "(as ‘lib’ is unspecified)\n",
            "\n"
          ],
          "name": "stderr"
        }
      ]
    },
    {
      "cell_type": "code",
      "metadata": {
        "id": "UZZuIlsqnur5",
        "colab": {
          "base_uri": "https://localhost:8080/"
        },
        "outputId": "56c99cad-b500-4758-cc53-74f3626d7e74"
      },
      "source": [
        "install.packages(\"caTools\")"
      ],
      "execution_count": null,
      "outputs": [
        {
          "output_type": "stream",
          "text": [
            "Installing package into ‘/usr/local/lib/R/site-library’\n",
            "(as ‘lib’ is unspecified)\n",
            "\n",
            "also installing the dependency ‘bitops’\n",
            "\n",
            "\n"
          ],
          "name": "stderr"
        }
      ]
    },
    {
      "cell_type": "code",
      "metadata": {
        "id": "HMHyhZh3dstm",
        "colab": {
          "base_uri": "https://localhost:8080/"
        },
        "outputId": "544c27bb-d321-4fe6-ea7e-62042019b0f3"
      },
      "source": [
        "install.packages(\"pROC\")"
      ],
      "execution_count": null,
      "outputs": [
        {
          "output_type": "stream",
          "text": [
            "Installing package into ‘/usr/local/lib/R/site-library’\n",
            "(as ‘lib’ is unspecified)\n",
            "\n"
          ],
          "name": "stderr"
        }
      ]
    },
    {
      "cell_type": "code",
      "metadata": {
        "id": "PanWbn5Kduy_",
        "colab": {
          "base_uri": "https://localhost:8080/"
        },
        "outputId": "2c084b95-7531-4bd5-b04a-14bdc6de8c15"
      },
      "source": [
        "install.packages(\"ggcorrplot\")"
      ],
      "execution_count": null,
      "outputs": [
        {
          "output_type": "stream",
          "text": [
            "Installing package into ‘/usr/local/lib/R/site-library’\n",
            "(as ‘lib’ is unspecified)\n",
            "\n"
          ],
          "name": "stderr"
        }
      ]
    },
    {
      "cell_type": "code",
      "metadata": {
        "_uuid": "a53bc825193b787fbe12145522ac449773f1774c",
        "_execution_state": "idle",
        "trusted": true,
        "id": "j-zMjwK_GdVD",
        "colab": {
          "base_uri": "https://localhost:8080/"
        },
        "outputId": "bfd0a374-b66a-400a-9483-83d34900287d"
      },
      "source": [
        "## Importing packages\n",
        "library(tidyverse) \n",
        "library(MASS)\n",
        "library(car)\n",
        "library(e1071)\n",
        "library(caret)\n",
        "library(cowplot)\n",
        "library(caTools)\n",
        "library(pROC)\n",
        "library(ggcorrplot)\n",
        "\n",
        "# list.files(path = \"../input\")"
      ],
      "execution_count": null,
      "outputs": [
        {
          "output_type": "stream",
          "text": [
            "Warning message in system(\"timedatectl\", intern = TRUE):\n",
            "“running command 'timedatectl' had status 1”\n",
            "── \u001b[1mAttaching packages\u001b[22m ─────────────────────────────────────── tidyverse 1.3.1 ──\n",
            "\n",
            "\u001b[32m✔\u001b[39m \u001b[34mggplot2\u001b[39m 3.3.3     \u001b[32m✔\u001b[39m \u001b[34mpurrr  \u001b[39m 0.3.4\n",
            "\u001b[32m✔\u001b[39m \u001b[34mtibble \u001b[39m 3.1.1     \u001b[32m✔\u001b[39m \u001b[34mdplyr  \u001b[39m 1.0.5\n",
            "\u001b[32m✔\u001b[39m \u001b[34mtidyr  \u001b[39m 1.1.3     \u001b[32m✔\u001b[39m \u001b[34mstringr\u001b[39m 1.4.0\n",
            "\u001b[32m✔\u001b[39m \u001b[34mreadr  \u001b[39m 1.4.0     \u001b[32m✔\u001b[39m \u001b[34mforcats\u001b[39m 0.5.1\n",
            "\n",
            "── \u001b[1mConflicts\u001b[22m ────────────────────────────────────────── tidyverse_conflicts() ──\n",
            "\u001b[31m✖\u001b[39m \u001b[34mdplyr\u001b[39m::\u001b[32mfilter()\u001b[39m masks \u001b[34mstats\u001b[39m::filter()\n",
            "\u001b[31m✖\u001b[39m \u001b[34mdplyr\u001b[39m::\u001b[32mlag()\u001b[39m    masks \u001b[34mstats\u001b[39m::lag()\n",
            "\n",
            "\n",
            "Attaching package: ‘MASS’\n",
            "\n",
            "\n",
            "The following object is masked from ‘package:dplyr’:\n",
            "\n",
            "    select\n",
            "\n",
            "\n",
            "Loading required package: carData\n",
            "\n",
            "\n",
            "Attaching package: ‘car’\n",
            "\n",
            "\n",
            "The following object is masked from ‘package:dplyr’:\n",
            "\n",
            "    recode\n",
            "\n",
            "\n",
            "The following object is masked from ‘package:purrr’:\n",
            "\n",
            "    some\n",
            "\n",
            "\n",
            "Loading required package: lattice\n",
            "\n",
            "\n",
            "Attaching package: ‘caret’\n",
            "\n",
            "\n",
            "The following object is masked from ‘package:purrr’:\n",
            "\n",
            "    lift\n",
            "\n",
            "\n",
            "Type 'citation(\"pROC\")' for a citation.\n",
            "\n",
            "\n",
            "Attaching package: ‘pROC’\n",
            "\n",
            "\n",
            "The following objects are masked from ‘package:stats’:\n",
            "\n",
            "    cov, smooth, var\n",
            "\n",
            "\n"
          ],
          "name": "stderr"
        }
      ]
    },
    {
      "cell_type": "code",
      "metadata": {
        "_uuid": "f775a39fbd1950b6b09ea67d02a981543d17d85c",
        "trusted": true,
        "id": "WbtIf47OGdVF"
      },
      "source": [
        "telco <- read.csv(\"WA_Fn-UseC_-Telco-Customer-Churn.csv\")"
      ],
      "execution_count": null,
      "outputs": []
    },
    {
      "cell_type": "markdown",
      "metadata": {
        "_uuid": "7d521b41941719e15866606f0661707eef8c9b76",
        "id": "njkuSjT2GdVG"
      },
      "source": [
        "7043 observations with 21 variables."
      ]
    },
    {
      "cell_type": "code",
      "metadata": {
        "_uuid": "1c976ba5799a66c7fa2b14fe476cbe6d95e36343",
        "trusted": true,
        "colab": {
          "base_uri": "https://localhost:8080/"
        },
        "id": "dDSOWCLfGdVG",
        "outputId": "95e153e5-c324-46eb-aaa5-3af0b372dce3"
      },
      "source": [
        "glimpse(telco)"
      ],
      "execution_count": null,
      "outputs": [
        {
          "output_type": "stream",
          "text": [
            "Rows: 7,043\n",
            "Columns: 21\n",
            "$ customerID       \u001b[3m\u001b[90m<chr>\u001b[39m\u001b[23m \"7590-VHVEG\", \"5575-GNVDE\", \"3668-QPYBK\", \"7795-CFOCW…\n",
            "$ gender           \u001b[3m\u001b[90m<chr>\u001b[39m\u001b[23m \"Female\", \"Male\", \"Male\", \"Male\", \"Female\", \"Female\",…\n",
            "$ SeniorCitizen    \u001b[3m\u001b[90m<int>\u001b[39m\u001b[23m 0, 0, 0, 0, 0, 0, 0, 0, 0, 0, 0, 0, 0, 0, 0, 0, 0, 0,…\n",
            "$ Partner          \u001b[3m\u001b[90m<chr>\u001b[39m\u001b[23m \"Yes\", \"No\", \"No\", \"No\", \"No\", \"No\", \"No\", \"No\", \"Yes…\n",
            "$ Dependents       \u001b[3m\u001b[90m<chr>\u001b[39m\u001b[23m \"No\", \"No\", \"No\", \"No\", \"No\", \"No\", \"Yes\", \"No\", \"No\"…\n",
            "$ tenure           \u001b[3m\u001b[90m<int>\u001b[39m\u001b[23m 1, 34, 2, 45, 2, 8, 22, 10, 28, 62, 13, 16, 58, 49, 2…\n",
            "$ PhoneService     \u001b[3m\u001b[90m<chr>\u001b[39m\u001b[23m \"No\", \"Yes\", \"Yes\", \"No\", \"Yes\", \"Yes\", \"Yes\", \"No\", …\n",
            "$ MultipleLines    \u001b[3m\u001b[90m<chr>\u001b[39m\u001b[23m \"No phone service\", \"No\", \"No\", \"No phone service\", \"…\n",
            "$ InternetService  \u001b[3m\u001b[90m<chr>\u001b[39m\u001b[23m \"DSL\", \"DSL\", \"DSL\", \"DSL\", \"Fiber optic\", \"Fiber opt…\n",
            "$ OnlineSecurity   \u001b[3m\u001b[90m<chr>\u001b[39m\u001b[23m \"No\", \"Yes\", \"Yes\", \"Yes\", \"No\", \"No\", \"No\", \"Yes\", \"…\n",
            "$ OnlineBackup     \u001b[3m\u001b[90m<chr>\u001b[39m\u001b[23m \"Yes\", \"No\", \"Yes\", \"No\", \"No\", \"No\", \"Yes\", \"No\", \"N…\n",
            "$ DeviceProtection \u001b[3m\u001b[90m<chr>\u001b[39m\u001b[23m \"No\", \"Yes\", \"No\", \"Yes\", \"No\", \"Yes\", \"No\", \"No\", \"Y…\n",
            "$ TechSupport      \u001b[3m\u001b[90m<chr>\u001b[39m\u001b[23m \"No\", \"No\", \"No\", \"Yes\", \"No\", \"No\", \"No\", \"No\", \"Yes…\n",
            "$ StreamingTV      \u001b[3m\u001b[90m<chr>\u001b[39m\u001b[23m \"No\", \"No\", \"No\", \"No\", \"No\", \"Yes\", \"Yes\", \"No\", \"Ye…\n",
            "$ StreamingMovies  \u001b[3m\u001b[90m<chr>\u001b[39m\u001b[23m \"No\", \"No\", \"No\", \"No\", \"No\", \"Yes\", \"No\", \"No\", \"Yes…\n",
            "$ Contract         \u001b[3m\u001b[90m<chr>\u001b[39m\u001b[23m \"Month-to-month\", \"One year\", \"Month-to-month\", \"One …\n",
            "$ PaperlessBilling \u001b[3m\u001b[90m<chr>\u001b[39m\u001b[23m \"Yes\", \"No\", \"Yes\", \"No\", \"Yes\", \"Yes\", \"Yes\", \"No\", …\n",
            "$ PaymentMethod    \u001b[3m\u001b[90m<chr>\u001b[39m\u001b[23m \"Electronic check\", \"Mailed check\", \"Mailed check\", \"…\n",
            "$ MonthlyCharges   \u001b[3m\u001b[90m<dbl>\u001b[39m\u001b[23m 29.85, 56.95, 53.85, 42.30, 70.70, 99.65, 89.10, 29.7…\n",
            "$ TotalCharges     \u001b[3m\u001b[90m<dbl>\u001b[39m\u001b[23m 29.85, 1889.50, 108.15, 1840.75, 151.65, 820.50, 1949…\n",
            "$ Churn            \u001b[3m\u001b[90m<chr>\u001b[39m\u001b[23m \"No\", \"No\", \"Yes\", \"No\", \"Yes\", \"Yes\", \"No\", \"No\", \"Y…\n"
          ],
          "name": "stdout"
        }
      ]
    },
    {
      "cell_type": "markdown",
      "metadata": {
        "_uuid": "cb11927490fb29d14f091df61cc6039afe9c18d2",
        "id": "ztiiYGqeGdVH"
      },
      "source": [
        "**Visualizing NAs in the columns:**"
      ]
    },
    {
      "cell_type": "code",
      "metadata": {
        "_uuid": "836f31220209cefdca5e5045c1005f96efea2b16",
        "_kg_hide-input": true,
        "trusted": true,
        "colab": {
          "base_uri": "https://localhost:8080/",
          "height": 495
        },
        "id": "6A_vTsSoGdVH",
        "outputId": "0a322f4b-6a57-426f-d55d-117356099f6d"
      },
      "source": [
        "options(repr.plot.width = 6, repr.plot.height = 4)\n",
        "missing_data <- telco %>% summarise_all(funs(sum(is.na(.))/n()))\n",
        "missing_data <- gather(missing_data, key = \"variables\", value = \"percent_missing\")\n",
        "ggplot(missing_data, aes(x = reorder(variables, percent_missing), y = percent_missing)) +\n",
        "geom_bar(stat = \"identity\", fill = \"red\", size = 0.3)+\n",
        "xlab('variables')+\n",
        "coord_flip()+ \n",
        "theme_bw()"
      ],
      "execution_count": null,
      "outputs": [
        {
          "output_type": "stream",
          "text": [
            "Warning message:\n",
            "“`funs()` was deprecated in dplyr 0.8.0.\n",
            "Please use a list of either functions or lambdas: \n",
            "\n",
            "  # Simple named list: \n",
            "  list(mean = mean, median = median)\n",
            "\n",
            "  # Auto named with `tibble::lst()`: \n",
            "  tibble::lst(mean, median)\n",
            "\n",
            "  # Using lambdas\n",
            "  list(~ mean(., trim = .2), ~ median(., na.rm = TRUE))\n",
            "\u001b[90mThis warning is displayed once every 8 hours.\u001b[39m\n",
            "\u001b[90mCall `lifecycle::last_warnings()` to see where this warning was generated.\u001b[39m”\n"
          ],
          "name": "stderr"
        },
        {
          "output_type": "display_data",
          "data": {
            "image/png": "[encoded data removed]",
            "text/plain": [
              "plot without title"
            ]
          },
          "metadata": {
            "tags": [],
            "image/png": {
              "width": 360,
              "height": 240
            }
          }
        }
      ]
    },
    {
      "cell_type": "markdown",
      "metadata": {
        "_uuid": "814e022fede805fee8867f7dd230a269ab6ea278",
        "id": "FbEDjKltGdVI"
      },
      "source": [
        "* There are only 11 missing data in the TotalCharges field, so getting rid of those rows from the dataset.\n",
        "* There are three continuous variables and they are Tenure, MonthlyCharges and TotalCharges. SeniorCitizen is in 'int' form, that can be changed to categorical."
      ]
    },
    {
      "cell_type": "code",
      "metadata": {
        "_uuid": "ac05368d62e65c732c8ba0136da5adebf1026610",
        "trusted": true,
        "id": "9ReEIZnYGdVJ"
      },
      "source": [
        "telco <- telco[complete.cases(telco),]\n",
        "\n",
        "telco$SeniorCitizen <- as.factor(ifelse(telco$SeniorCitizen==1, 'YES', 'NO'))"
      ],
      "execution_count": null,
      "outputs": []
    },
    {
      "cell_type": "markdown",
      "metadata": {
        "_uuid": "aeff3e6c21de02528d30c74865ed94e2c8d48079",
        "id": "05qAZz6dGdVJ"
      },
      "source": [
        "**EXPLORATORY DATA ANALYSIS:**"
      ]
    },
    {
      "cell_type": "code",
      "metadata": {
        "_uuid": "bc14f7f473c19753568faa579440fe65eae3b186",
        "_kg_hide-input": true,
        "trusted": true,
        "id": "qphHj3OLGdVJ"
      },
      "source": [
        "theme1 <- theme_bw()+\n",
        "theme(axis.text.x = element_text(angle = 0, hjust = 1, vjust = 0.5),legend.position=\"none\")\n",
        "theme2 <- theme_bw()+\n",
        "theme(axis.text.x = element_text(angle = 90, hjust = 1, vjust = 0.5),legend.position=\"none\")"
      ],
      "execution_count": null,
      "outputs": []
    },
    {
      "cell_type": "code",
      "metadata": {
        "_uuid": "47946c4fea89503fd1e904e82a021a2805a9d984",
        "trusted": true,
        "colab": {
          "base_uri": "https://localhost:8080/"
        },
        "id": "6ShyCM1-GdVK",
        "outputId": "215c5c2f-137c-4a56-84a0-ad65984228be"
      },
      "source": [
        "glimpse(telco)"
      ],
      "execution_count": null,
      "outputs": [
        {
          "output_type": "stream",
          "text": [
            "Rows: 7,032\n",
            "Columns: 21\n",
            "$ customerID       \u001b[3m\u001b[90m<chr>\u001b[39m\u001b[23m \"7590-VHVEG\", \"5575-GNVDE\", \"3668-QPYBK\", \"7795-CFOCW…\n",
            "$ gender           \u001b[3m\u001b[90m<chr>\u001b[39m\u001b[23m \"Female\", \"Male\", \"Male\", \"Male\", \"Female\", \"Female\",…\n",
            "$ SeniorCitizen    \u001b[3m\u001b[90m<fct>\u001b[39m\u001b[23m NO, NO, NO, NO, NO, NO, NO, NO, NO, NO, NO, NO, NO, N…\n",
            "$ Partner          \u001b[3m\u001b[90m<chr>\u001b[39m\u001b[23m \"Yes\", \"No\", \"No\", \"No\", \"No\", \"No\", \"No\", \"No\", \"Yes…\n",
            "$ Dependents       \u001b[3m\u001b[90m<chr>\u001b[39m\u001b[23m \"No\", \"No\", \"No\", \"No\", \"No\", \"No\", \"Yes\", \"No\", \"No\"…\n",
            "$ tenure           \u001b[3m\u001b[90m<int>\u001b[39m\u001b[23m 1, 34, 2, 45, 2, 8, 22, 10, 28, 62, 13, 16, 58, 49, 2…\n",
            "$ PhoneService     \u001b[3m\u001b[90m<chr>\u001b[39m\u001b[23m \"No\", \"Yes\", \"Yes\", \"No\", \"Yes\", \"Yes\", \"Yes\", \"No\", …\n",
            "$ MultipleLines    \u001b[3m\u001b[90m<chr>\u001b[39m\u001b[23m \"No phone service\", \"No\", \"No\", \"No phone service\", \"…\n",
            "$ InternetService  \u001b[3m\u001b[90m<chr>\u001b[39m\u001b[23m \"DSL\", \"DSL\", \"DSL\", \"DSL\", \"Fiber optic\", \"Fiber opt…\n",
            "$ OnlineSecurity   \u001b[3m\u001b[90m<chr>\u001b[39m\u001b[23m \"No\", \"Yes\", \"Yes\", \"Yes\", \"No\", \"No\", \"No\", \"Yes\", \"…\n",
            "$ OnlineBackup     \u001b[3m\u001b[90m<chr>\u001b[39m\u001b[23m \"Yes\", \"No\", \"Yes\", \"No\", \"No\", \"No\", \"Yes\", \"No\", \"N…\n",
            "$ DeviceProtection \u001b[3m\u001b[90m<chr>\u001b[39m\u001b[23m \"No\", \"Yes\", \"No\", \"Yes\", \"No\", \"Yes\", \"No\", \"No\", \"Y…\n",
            "$ TechSupport      \u001b[3m\u001b[90m<chr>\u001b[39m\u001b[23m \"No\", \"No\", \"No\", \"Yes\", \"No\", \"No\", \"No\", \"No\", \"Yes…\n",
            "$ StreamingTV      \u001b[3m\u001b[90m<chr>\u001b[39m\u001b[23m \"No\", \"No\", \"No\", \"No\", \"No\", \"Yes\", \"Yes\", \"No\", \"Ye…\n",
            "$ StreamingMovies  \u001b[3m\u001b[90m<chr>\u001b[39m\u001b[23m \"No\", \"No\", \"No\", \"No\", \"No\", \"Yes\", \"No\", \"No\", \"Yes…\n",
            "$ Contract         \u001b[3m\u001b[90m<chr>\u001b[39m\u001b[23m \"Month-to-month\", \"One year\", \"Month-to-month\", \"One …\n",
            "$ PaperlessBilling \u001b[3m\u001b[90m<chr>\u001b[39m\u001b[23m \"Yes\", \"No\", \"Yes\", \"No\", \"Yes\", \"Yes\", \"Yes\", \"No\", …\n",
            "$ PaymentMethod    \u001b[3m\u001b[90m<chr>\u001b[39m\u001b[23m \"Electronic check\", \"Mailed check\", \"Mailed check\", \"…\n",
            "$ MonthlyCharges   \u001b[3m\u001b[90m<dbl>\u001b[39m\u001b[23m 29.85, 56.95, 53.85, 42.30, 70.70, 99.65, 89.10, 29.7…\n",
            "$ TotalCharges     \u001b[3m\u001b[90m<dbl>\u001b[39m\u001b[23m 29.85, 1889.50, 108.15, 1840.75, 151.65, 820.50, 1949…\n",
            "$ Churn            \u001b[3m\u001b[90m<chr>\u001b[39m\u001b[23m \"No\", \"No\", \"Yes\", \"No\", \"Yes\", \"Yes\", \"No\", \"No\", \"Y…\n"
          ],
          "name": "stdout"
        }
      ]
    },
    {
      "cell_type": "markdown",
      "metadata": {
        "_uuid": "f233e6f88f5334cf85432e41265d1d11fbe71eb7",
        "id": "J0UOf0NIGdVK"
      },
      "source": [
        "**VISUALIZING THE CATEGORICAL DATA FIRST WITH RESPECT TO CHURN:**"
      ]
    },
    {
      "cell_type": "markdown",
      "metadata": {
        "_uuid": "5f0492ffc7f26e1a6a638c9f04c1304dea18eada",
        "id": "X2qQpzL4GdVL"
      },
      "source": [
        "* CHURN columns tells us about the number of Customers who left within the last month. \n",
        "* Around 26% of customers left the platform within the last month."
      ]
    },
    {
      "cell_type": "code",
      "metadata": {
        "_uuid": "e20b3bf74eb42a90b983b75d0f9be28b40d4a1d6",
        "_kg_hide-input": true,
        "trusted": true,
        "colab": {
          "base_uri": "https://localhost:8080/",
          "height": 257
        },
        "id": "ve1IymV-GdVL",
        "outputId": "f4468d05-03a4-4d52-e51d-f25737d62b4b"
      },
      "source": [
        "options(repr.plot.width = 6, repr.plot.height = 4)\n",
        "telco %>% \n",
        "group_by(Churn) %>% \n",
        "summarise(Count = n())%>% \n",
        "mutate(percent = prop.table(Count)*100)%>%\n",
        "ggplot(aes(reorder(Churn, -percent), percent))+\n",
        "geom_col(fill = c(\"#FC4E07\", \"#E7B800\"))+\n",
        "geom_text(aes(label = sprintf(\"%.2f%%\", percent)), hjust = 0.01,vjust = -0.5, size =3)+ \n",
        "theme_bw()+  \n",
        "xlab(\"Churn\") + \n",
        "ylab(\"Percent\")+\n",
        "ggtitle(\"Churn Percent\")"
      ],
      "execution_count": null,
      "outputs": [
        {
          "output_type": "display_data",
          "data": {
            "image/png": "[encoded data removed]",
            "text/plain": [
              "plot without title"
            ]
          },
          "metadata": {
            "tags": [],
            "image/png": {
              "width": 360,
              "height": 240
            }
          }
        }
      ]
    },
    {
      "cell_type": "markdown",
      "metadata": {
        "_uuid": "2827e95751f0815f67a6fe22d3d047c42ff561bc",
        "id": "xED7oklqGdVM"
      },
      "source": [
        "* **Gender **- The churn percent is almost equal in case of Male and Females\n",
        "* The percent of churn is higher in case of **senior citizens**\n",
        "* Customers with** Partners** and **Dependents** have lower churn rate as compared to those who don't have partners & Dependents."
      ]
    },
    {
      "cell_type": "code",
      "metadata": {
        "_uuid": "4ec6ba5a5def7fc16c71750bd596e0eacfcb8374",
        "_kg_hide-input": true,
        "trusted": true,
        "colab": {
          "base_uri": "https://localhost:8080/",
          "height": 497
        },
        "id": "nlOvo3AcGdVM",
        "outputId": "ea8d4b52-862d-4b49-bdf9-f0cd5ea60c8a"
      },
      "source": [
        "options(repr.plot.width = 12, repr.plot.height = 8)\n",
        "plot_grid(ggplot(telco, aes(x=gender,fill=Churn))+ geom_bar(position = 'fill')+ theme1, \n",
        "          ggplot(telco, aes(x=SeniorCitizen,fill=Churn))+ geom_bar(position = 'fill')+theme1,\n",
        "          ggplot(telco, aes(x=Partner,fill=Churn))+ geom_bar(position = 'fill')+theme1,\n",
        "          ggplot(telco, aes(x=Dependents,fill=Churn))+ geom_bar(position = 'fill')+theme1,\n",
        "          ggplot(telco, aes(x=PhoneService,fill=Churn))+ geom_bar(position = 'fill')+theme1,\n",
        "          ggplot(telco, aes(x=MultipleLines,fill=Churn))+ geom_bar(position = 'fill')+theme_bw()+\n",
        "          scale_x_discrete(labels = function(x) str_wrap(x, width = 10)),\n",
        "          align = \"h\")   "
      ],
      "execution_count": null,
      "outputs": [
        {
          "output_type": "display_data",
          "data": {
            "image/png": "[encoded data removed]",
            "text/plain": [
              "plot without title"
            ]
          },
          "metadata": {
            "tags": [],
            "image/png": {
              "width": 720,
              "height": 480
            }
          }
        }
      ]
    },
    {
      "cell_type": "markdown",
      "metadata": {
        "_uuid": "e6db899eb4ed763b3f5df61341884a69baf1f828",
        "id": "08VT4tYHGdVN"
      },
      "source": [
        "* Churn rate is much **higher** in case of **Fiber Optic InternetServices.**\n",
        "* Customers who do not have services like **No OnlineSecurity **, **OnlineBackup** and ** TechSupport** have left the platform in the past month.\n"
      ]
    },
    {
      "cell_type": "code",
      "metadata": {
        "_uuid": "d051a3af6a69fbe88a957e8c56707a55f7a9c831",
        "_kg_hide-input": true,
        "trusted": true,
        "colab": {
          "base_uri": "https://localhost:8080/",
          "height": 497
        },
        "id": "rHsJqpieGdVO",
        "outputId": "f4f2d6ed-fd6f-4754-f83b-d5c064663614"
      },
      "source": [
        "options(repr.plot.width = 12, repr.plot.height = 8)\n",
        "plot_grid(ggplot(telco, aes(x=InternetService,fill=Churn))+ geom_bar(position = 'fill')+ theme1+\n",
        "          scale_x_discrete(labels = function(x) str_wrap(x, width = 10)), \n",
        "          ggplot(telco, aes(x=OnlineSecurity,fill=Churn))+ geom_bar(position = 'fill')+theme1+\n",
        "          scale_x_discrete(labels = function(x) str_wrap(x, width = 10)),\n",
        "          ggplot(telco, aes(x=OnlineBackup,fill=Churn))+ geom_bar(position = 'fill')+theme1+\n",
        "          scale_x_discrete(labels = function(x) str_wrap(x, width = 10)),\n",
        "          ggplot(telco, aes(x=DeviceProtection,fill=Churn))+ geom_bar(position = 'fill')+theme1+\n",
        "          scale_x_discrete(labels = function(x) str_wrap(x, width = 10)),\n",
        "          ggplot(telco, aes(x=TechSupport,fill=Churn))+ geom_bar(position = 'fill')+theme1+\n",
        "          scale_x_discrete(labels = function(x) str_wrap(x, width = 10)),\n",
        "          ggplot(telco, aes(x=StreamingTV,fill=Churn))+ geom_bar(position = 'fill')+theme_bw()+\n",
        "          scale_x_discrete(labels = function(x) str_wrap(x, width = 10)),\n",
        "          align = \"h\")  "
      ],
      "execution_count": null,
      "outputs": [
        {
          "output_type": "display_data",
          "data": {
            "image/png": "[encoded data removed]",
            "text/plain": [
              "plot without title"
            ]
          },
          "metadata": {
            "tags": [],
            "image/png": {
              "width": 720,
              "height": 480
            }
          }
        }
      ]
    },
    {
      "cell_type": "markdown",
      "metadata": {
        "_uuid": "6f37d7d079c0b98c28b897f814865ce49f9e6d38",
        "id": "Xg90WUUMGdVO"
      },
      "source": [
        "* A larger percent of Customers with **monthly subscription** have **left** when compared to Customers with one or two year contract.\n",
        "* **Churn** percent is** higher** in case of cutsomers having **paperless billing option**.\n",
        "* Customers who have **ElectronicCheck** PaymentMethod tend to **leave** the platform more when compared to other options.\n"
      ]
    },
    {
      "cell_type": "code",
      "metadata": {
        "_uuid": "a47bc9d1433318a111a93b21e9bf64cfde010ee5",
        "_kg_hide-input": true,
        "trusted": true,
        "colab": {
          "base_uri": "https://localhost:8080/",
          "height": 497
        },
        "id": "8Vwmp4G3GdVP",
        "outputId": "8825f9c8-292c-485a-c35b-5bb59ead2e3a"
      },
      "source": [
        "plot_grid(ggplot(telco, aes(x=StreamingMovies,fill=Churn))+ \n",
        "          geom_bar(position = 'fill')+ theme1+\n",
        "          scale_x_discrete(labels = function(x) str_wrap(x, width = 10)), \n",
        "          ggplot(telco, aes(x=Contract,fill=Churn))+ \n",
        "          geom_bar(position = 'fill')+theme1+\n",
        "          scale_x_discrete(labels = function(x) str_wrap(x, width = 10)),\n",
        "          ggplot(telco, aes(x=PaperlessBilling,fill=Churn))+ \n",
        "          geom_bar(position = 'fill')+theme1+\n",
        "          scale_x_discrete(labels = function(x) str_wrap(x, width = 10)),\n",
        "          ggplot(telco, aes(x=PaymentMethod,fill=Churn))+\n",
        "          geom_bar(position = 'fill')+theme_bw()+\n",
        "          scale_x_discrete(labels = function(x) str_wrap(x, width = 10)),\n",
        "          align = \"h\")  "
      ],
      "execution_count": null,
      "outputs": [
        {
          "output_type": "display_data",
          "data": {
            "image/png": "[encoded data removed]",
            "text/plain": [
              "plot without title"
            ]
          },
          "metadata": {
            "tags": [],
            "image/png": {
              "width": 720,
              "height": 480
            }
          }
        }
      ]
    },
    {
      "cell_type": "markdown",
      "metadata": {
        "_uuid": "ff6448f3d7edfda4e54da967c0a1029c30b6a412",
        "id": "VMxSscZXGdVP"
      },
      "source": [
        "**Analyzing the three continuous variables w.r.t CHURN:**"
      ]
    },
    {
      "cell_type": "markdown",
      "metadata": {
        "_uuid": "03fba69914fd652821c7aca2b1bd9e7908729d35",
        "id": "7vY0bN_zGdVQ"
      },
      "source": [
        "**Tenure:** The median tenure for customers who have left is around 10 months."
      ]
    },
    {
      "cell_type": "code",
      "metadata": {
        "_uuid": "de9c61a039a8b06b83d06c1ca21adbe7120e77c2",
        "trusted": true,
        "colab": {
          "base_uri": "https://localhost:8080/",
          "height": 137
        },
        "id": "6csKE2wuGdVQ",
        "outputId": "cd187218-8983-418d-f448-f293ffe8f8b1"
      },
      "source": [
        "options(repr.plot.width =6, repr.plot.height = 2)\n",
        "ggplot(telco, aes(y= tenure, x = \"\", fill = Churn)) + \n",
        "geom_boxplot()+ \n",
        "theme_bw()+\n",
        "xlab(\" \")"
      ],
      "execution_count": null,
      "outputs": [
        {
          "output_type": "display_data",
          "data": {
            "image/png": "[encoded data removed]",
            "text/plain": [
              "plot without title"
            ]
          },
          "metadata": {
            "tags": [],
            "image/png": {
              "width": 360,
              "height": 120
            }
          }
        }
      ]
    },
    {
      "cell_type": "markdown",
      "metadata": {
        "_uuid": "8a6abb735e36f95323e37000825ceaedd8a526f3",
        "id": "SFVDEsNMGdVQ"
      },
      "source": [
        "**MonthlyCharges:** Customers who have churned, have high monthly charges. The median is above 75."
      ]
    },
    {
      "cell_type": "code",
      "metadata": {
        "_uuid": "fb09b825fe5e79ede58be3a56b16e4579321b314",
        "trusted": true,
        "colab": {
          "base_uri": "https://localhost:8080/",
          "height": 137
        },
        "id": "5nqASWqpGdVQ",
        "outputId": "888aeb1a-d405-45d6-c377-bf36622ef211"
      },
      "source": [
        "ggplot(telco, aes(y= MonthlyCharges, x = \"\", fill = Churn)) + \n",
        "geom_boxplot()+ \n",
        "theme_bw()+\n",
        "xlab(\" \")"
      ],
      "execution_count": null,
      "outputs": [
        {
          "output_type": "display_data",
          "data": {
            "image/png": "[encoded data removed]",
            "text/plain": [
              "plot without title"
            ]
          },
          "metadata": {
            "tags": [],
            "image/png": {
              "width": 360,
              "height": 120
            }
          }
        }
      ]
    },
    {
      "cell_type": "markdown",
      "metadata": {
        "_uuid": "45f6eba5691d5da2ff5b0314c1295ca797a1c67b",
        "id": "QBOpmA_TGdVR"
      },
      "source": [
        "**TotalCharges:*** The median Total charges of customers who have churned is low."
      ]
    },
    {
      "cell_type": "code",
      "metadata": {
        "_uuid": "4bbb68c79ebd1c60bcb3b3ab3c8121fad1e808bf",
        "trusted": true,
        "colab": {
          "base_uri": "https://localhost:8080/",
          "height": 137
        },
        "id": "7ZgbfJ1jGdVR",
        "outputId": "bef0e3e8-dfad-4695-a9c9-6179dd917ac7"
      },
      "source": [
        "ggplot(telco, aes(y= TotalCharges, x = \"\", fill = Churn)) + \n",
        "geom_boxplot()+ \n",
        "theme_bw()+\n",
        "xlab(\" \")"
      ],
      "execution_count": null,
      "outputs": [
        {
          "output_type": "display_data",
          "data": {
            "image/png": "[encoded data removed]",
            "text/plain": [
              "plot without title"
            ]
          },
          "metadata": {
            "tags": [],
            "image/png": {
              "width": 360,
              "height": 120
            }
          }
        }
      ]
    },
    {
      "cell_type": "markdown",
      "metadata": {
        "_uuid": "0c1c63c58e29eb46bbb5886ffec4d6e9bd7a29c6",
        "id": "TIueuOLKGdVS"
      },
      "source": [
        "**Checking the correlation between continuous variables**\n",
        "\n",
        "Total Charges has positive correlation with MonthlyCharges and tenure."
      ]
    },
    {
      "cell_type": "code",
      "metadata": {
        "_kg_hide-input": true,
        "_uuid": "7cdb22b49f7661f384582a429550464d6cc9d192",
        "trusted": true,
        "colab": {
          "base_uri": "https://localhost:8080/",
          "height": 257
        },
        "id": "jP49XU0kGdVS",
        "outputId": "8a57656f-221e-4753-dfb8-f52105ce1e68"
      },
      "source": [
        "options(repr.plot.width =6, repr.plot.height = 4)\n",
        "telco_cor <- round(cor(telco[,c(\"tenure\", \"MonthlyCharges\", \"TotalCharges\")]), 1)\n",
        "\n",
        "ggcorrplot(telco_cor,  title = \"Correlation\")+theme(plot.title = element_text(hjust = 0.5))"
      ],
      "execution_count": null,
      "outputs": [
        {
          "output_type": "display_data",
          "data": {
            "image/png": "[encoded data removed]",
            "text/plain": [
              "plot without title"
            ]
          },
          "metadata": {
            "tags": [],
            "image/png": {
              "width": 360,
              "height": 240
            }
          }
        }
      ]
    },
    {
      "cell_type": "markdown",
      "metadata": {
        "_uuid": "b6ee708f24adfcdf61d6acdec7d4733688f81f70",
        "id": "QiaEnHdOGdVT"
      },
      "source": [
        "Checking for **outliers** in the continuous variables, and it seems none of the values are beyond the whiskers here."
      ]
    },
    {
      "cell_type": "code",
      "metadata": {
        "_uuid": "3f2335b2f9d6fbc3db948d109a0d2edab091728a",
        "trusted": true,
        "colab": {
          "base_uri": "https://localhost:8080/",
          "height": 257
        },
        "id": "jAvgNzWiGdVT",
        "outputId": "9dafeeb8-8a6c-40bd-a2ad-a19440a4e916"
      },
      "source": [
        "options(repr.plot.width =4, repr.plot.height = 4)\n",
        "boxplot(telco$tenure)$out"
      ],
      "execution_count": null,
      "outputs": [
        {
          "output_type": "display_data",
          "data": {
            "text/plain": [
              "numeric(0)"
            ],
            "text/latex": "",
            "text/markdown": "",
            "text/html": [
              ""
            ]
          },
          "metadata": {
            "tags": []
          }
        },
        {
          "output_type": "display_data",
          "data": {
            "image/png": "[encoded data removed]",
            "text/plain": [
              "plot without title"
            ]
          },
          "metadata": {
            "tags": [],
            "image/png": {
              "width": 240,
              "height": 240
            }
          }
        }
      ]
    },
    {
      "cell_type": "code",
      "metadata": {
        "_uuid": "f4dbcf69d65989c5b48711dff8df1eed69fc97a2",
        "trusted": true,
        "colab": {
          "base_uri": "https://localhost:8080/",
          "height": 257
        },
        "id": "kqYzScjWGdVU",
        "outputId": "bbec7f72-ee75-47d0-f985-d06cb8a87ddd"
      },
      "source": [
        "boxplot(telco$MonthlyCharges)$out\n"
      ],
      "execution_count": null,
      "outputs": [
        {
          "output_type": "display_data",
          "data": {
            "text/plain": [
              "numeric(0)"
            ],
            "text/latex": "",
            "text/markdown": "",
            "text/html": [
              ""
            ]
          },
          "metadata": {
            "tags": []
          }
        },
        {
          "output_type": "display_data",
          "data": {
            "image/png": "[encoded data removed]",
            "text/plain": [
              "plot without title"
            ]
          },
          "metadata": {
            "tags": [],
            "image/png": {
              "width": 240,
              "height": 240
            }
          }
        }
      ]
    },
    {
      "cell_type": "code",
      "metadata": {
        "_uuid": "ab8f2d22dcb7420d3dabfbca7bb1cda87a42b950",
        "trusted": true,
        "colab": {
          "base_uri": "https://localhost:8080/",
          "height": 257
        },
        "id": "LbtBgHQPGdVV",
        "outputId": "6784e2b8-259d-43e6-e09d-1c61528bca1f"
      },
      "source": [
        "boxplot(telco$TotalCharges)$out"
      ],
      "execution_count": null,
      "outputs": [
        {
          "output_type": "display_data",
          "data": {
            "text/plain": [
              "numeric(0)"
            ],
            "text/latex": "",
            "text/markdown": "",
            "text/html": [
              ""
            ]
          },
          "metadata": {
            "tags": []
          }
        },
        {
          "output_type": "display_data",
          "data": {
            "image/png": "[encoded data removed]",
            "text/plain": [
              "plot without title"
            ]
          },
          "metadata": {
            "tags": [],
            "image/png": {
              "width": 240,
              "height": 240
            }
          }
        }
      ]
    },
    {
      "cell_type": "markdown",
      "metadata": {
        "_uuid": "e9f5bcc26deb62fe5a3865fa526b279bdfabd129",
        "id": "6x7sbnl4GdVY"
      },
      "source": [
        "**DATA PREPARATION: **\n",
        "* Cleaning the Categorical features\n",
        "* Standardising Continuous features\n",
        "* Creating derived features\n",
        "* Creating dummy variables for factor variables\n",
        "* Creating the final dataset\n",
        "* Splitting the data into train and validation set."
      ]
    },
    {
      "cell_type": "markdown",
      "metadata": {
        "_uuid": "0a363f73573d6426c2891e4792e78e8d1061c0ef",
        "id": "p0hckjsFGdVZ"
      },
      "source": [
        "*Cleaning the Categorical features*\n",
        "\n",
        "From the EDA above, we know that there are some categorical features that have 'No' and 'No Internet Service' or 'No Phone Service' as a category, we can make them as 'No' and clean these features."
      ]
    },
    {
      "cell_type": "code",
      "metadata": {
        "_uuid": "1b976ff6d06fc7aac306639f01a580e8c6bc01dd",
        "trusted": true,
        "id": "annbpVCBGdVa"
      },
      "source": [
        "telco <- data.frame(lapply(telco, function(x) {\n",
        "                  gsub(\"No internet service\", \"No\", x)}))\n",
        "\n",
        "telco <- data.frame(lapply(telco, function(x) {\n",
        "                  gsub(\"No phone service\", \"No\", x)}))"
      ],
      "execution_count": null,
      "outputs": []
    },
    {
      "cell_type": "markdown",
      "metadata": {
        "_uuid": "52395b3cce9180028640d022f7e2b55504c822ea",
        "id": "U1jroxNSGdVb"
      },
      "source": [
        "*Standardising Continuous features*"
      ]
    },
    {
      "cell_type": "code",
      "metadata": {
        "_uuid": "9940103adf2d796c37e9d1927c330ef375ec396f",
        "trusted": true,
        "id": "v1IDj1faGdVb"
      },
      "source": [
        "num_columns <- c(\"tenure\", \"MonthlyCharges\", \"TotalCharges\")\n",
        "telco[num_columns] <- sapply(telco[num_columns], as.numeric)\n",
        "\n",
        "telco_int <- telco[,c(\"tenure\", \"MonthlyCharges\", \"TotalCharges\")]\n",
        "telco_int <- data.frame(scale(telco_int))\n"
      ],
      "execution_count": null,
      "outputs": []
    },
    {
      "cell_type": "markdown",
      "metadata": {
        "_uuid": "a5ce44d4a587ebab3aa398b260ce3a135679b8c4",
        "id": "B3U_OvD_GdVb"
      },
      "source": [
        "*Creating derived features*\n",
        "\n",
        "trying to create a derived feature from tenure, where i have made different bins of tenure(which is in months) such as '0-1 year', '2-3 years', '3-4 years' etc."
      ]
    },
    {
      "cell_type": "code",
      "metadata": {
        "_uuid": "2b506846d01fe3ba85c593e79ddf7ffbbbc25248",
        "trusted": true,
        "id": "VVIG0ZsWGdVc"
      },
      "source": [
        "#max(telco$tenure)\n",
        "#min(telco$tenure)\n",
        "telco <- mutate(telco, tenure_bin = tenure)\n",
        "\n",
        "telco$tenure_bin[telco$tenure_bin >=0 & telco$tenure_bin <= 12] <- '0-1 year'\n",
        "telco$tenure_bin[telco$tenure_bin > 12 & telco$tenure_bin <= 24] <- '1-2 years'\n",
        "telco$tenure_bin[telco$tenure_bin > 24 & telco$tenure_bin <= 36] <- '2-3 years'\n",
        "telco$tenure_bin[telco$tenure_bin > 36 & telco$tenure_bin <= 48] <- '3-4 years'\n",
        "telco$tenure_bin[telco$tenure_bin > 48 & telco$tenure_bin <= 60] <- '4-5 years'\n",
        "telco$tenure_bin[telco$tenure_bin > 60 & telco$tenure_bin <= 72] <- '5-6 years'\n",
        "\n",
        "telco$tenure_bin <- as.factor(telco$tenure_bin)"
      ],
      "execution_count": null,
      "outputs": []
    },
    {
      "cell_type": "markdown",
      "metadata": {
        "_uuid": "8bff62efa596ff378b78dfdeab0cd6ddd42759ee",
        "id": "TVzc6FpNGdVc"
      },
      "source": [
        "After checking the distribution of data in each tenure bin, we found that maximum number of customers have a tenure of either 0-1 years and followed by 5-6 years."
      ]
    },
    {
      "cell_type": "code",
      "metadata": {
        "_uuid": "6f5b8437cb6d19e485d8b4e8fec136221191a7f4",
        "trusted": true,
        "colab": {
          "base_uri": "https://localhost:8080/",
          "height": 197
        },
        "id": "ZMlvy1w6GdVc",
        "outputId": "589ac32b-3ccb-46fc-bfe0-e3690b2f3103"
      },
      "source": [
        "options(repr.plot.width = 6, repr.plot.height = 3)\n",
        "ggplot(telco, aes(tenure_bin, fill = tenure_bin)) + geom_bar()+ theme1"
      ],
      "execution_count": null,
      "outputs": [
        {
          "output_type": "display_data",
          "data": {
            "image/png": "[encoded data removed]",
            "text/plain": [
              "plot without title"
            ]
          },
          "metadata": {
            "tags": [],
            "image/png": {
              "width": 360,
              "height": 180
            }
          }
        }
      ]
    },
    {
      "cell_type": "markdown",
      "metadata": {
        "_uuid": "a33369dd11ca91ed5969c79cdb42f42510a0c128",
        "id": "to3uyQAJGdVd"
      },
      "source": [
        "*Creating Dummy Variables*"
      ]
    },
    {
      "cell_type": "code",
      "metadata": {
        "_uuid": "d872699c93b0ebbeba024d9be51046e264899ef5",
        "trusted": true,
        "colab": {
          "base_uri": "https://localhost:8080/",
          "height": 303
        },
        "id": "TpaiHOaUGdVe",
        "outputId": "11bcf072-acb1-448d-b010-55bb6bca8bb2"
      },
      "source": [
        "telco_cat <- telco[,-c(1,6,19,20)]\n",
        "\n",
        "#Creating Dummy Variables\n",
        "dummy<- data.frame(sapply(telco_cat,function(x) data.frame(model.matrix(~0+x,data = telco_cat))[,-1]))\n",
        "\n",
        "head(dummy)"
      ],
      "execution_count": null,
      "outputs": [
        {
          "output_type": "display_data",
          "data": {
            "text/plain": [
              "  gender SeniorCitizen Partner Dependents PhoneService MultipleLines\n",
              "1 0      0             1       0          0            0            \n",
              "2 1      0             0       0          1            0            \n",
              "3 1      0             0       0          1            0            \n",
              "4 1      0             0       0          0            0            \n",
              "5 0      0             0       0          1            0            \n",
              "6 0      0             0       0          1            1            \n",
              "  InternetService.xFiber.optic InternetService.xNo OnlineSecurity OnlineBackup\n",
              "1 0                            0                   0              1           \n",
              "2 0                            0                   1              0           \n",
              "3 0                            0                   1              1           \n",
              "4 0                            0                   1              0           \n",
              "5 1                            0                   0              0           \n",
              "6 1                            0                   0              0           \n",
              "  ⋯ PaperlessBilling PaymentMethod.xCredit.card..automatic.\n",
              "1 ⋯ 1                0                                     \n",
              "2 ⋯ 0                0                                     \n",
              "3 ⋯ 1                0                                     \n",
              "4 ⋯ 0                0                                     \n",
              "5 ⋯ 1                0                                     \n",
              "6 ⋯ 1                0                                     \n",
              "  PaymentMethod.xElectronic.check PaymentMethod.xMailed.check Churn\n",
              "1 1                               0                           0    \n",
              "2 0                               1                           0    \n",
              "3 0                               1                           1    \n",
              "4 0                               0                           0    \n",
              "5 1                               0                           1    \n",
              "6 1                               0                           1    \n",
              "  tenure_bin.x1.2.years tenure_bin.x2.3.years tenure_bin.x3.4.years\n",
              "1 0                     0                     0                    \n",
              "2 0                     1                     0                    \n",
              "3 0                     0                     0                    \n",
              "4 0                     0                     1                    \n",
              "5 0                     0                     0                    \n",
              "6 0                     0                     0                    \n",
              "  tenure_bin.x4.5.years tenure_bin.x5.6.years\n",
              "1 0                     0                    \n",
              "2 0                     0                    \n",
              "3 0                     0                    \n",
              "4 0                     0                    \n",
              "5 0                     0                    \n",
              "6 0                     0                    "
            ],
            "text/latex": "A data.frame: 6 × 26\n\\begin{tabular}{r|lllllllllllllllllllll}\n  & gender & SeniorCitizen & Partner & Dependents & PhoneService & MultipleLines & InternetService.xFiber.optic & InternetService.xNo & OnlineSecurity & OnlineBackup & ⋯ & PaperlessBilling & PaymentMethod.xCredit.card..automatic. & PaymentMethod.xElectronic.check & PaymentMethod.xMailed.check & Churn & tenure\\_bin.x1.2.years & tenure\\_bin.x2.3.years & tenure\\_bin.x3.4.years & tenure\\_bin.x4.5.years & tenure\\_bin.x5.6.years\\\\\n  & <dbl> & <dbl> & <dbl> & <dbl> & <dbl> & <dbl> & <dbl> & <dbl> & <dbl> & <dbl> & ⋯ & <dbl> & <dbl> & <dbl> & <dbl> & <dbl> & <dbl> & <dbl> & <dbl> & <dbl> & <dbl>\\\\\n\\hline\n\t1 & 0 & 0 & 1 & 0 & 0 & 0 & 0 & 0 & 0 & 1 & ⋯ & 1 & 0 & 1 & 0 & 0 & 0 & 0 & 0 & 0 & 0\\\\\n\t2 & 1 & 0 & 0 & 0 & 1 & 0 & 0 & 0 & 1 & 0 & ⋯ & 0 & 0 & 0 & 1 & 0 & 0 & 1 & 0 & 0 & 0\\\\\n\t3 & 1 & 0 & 0 & 0 & 1 & 0 & 0 & 0 & 1 & 1 & ⋯ & 1 & 0 & 0 & 1 & 1 & 0 & 0 & 0 & 0 & 0\\\\\n\t4 & 1 & 0 & 0 & 0 & 0 & 0 & 0 & 0 & 1 & 0 & ⋯ & 0 & 0 & 0 & 0 & 0 & 0 & 0 & 1 & 0 & 0\\\\\n\t5 & 0 & 0 & 0 & 0 & 1 & 0 & 1 & 0 & 0 & 0 & ⋯ & 1 & 0 & 1 & 0 & 1 & 0 & 0 & 0 & 0 & 0\\\\\n\t6 & 0 & 0 & 0 & 0 & 1 & 1 & 1 & 0 & 0 & 0 & ⋯ & 1 & 0 & 1 & 0 & 1 & 0 & 0 & 0 & 0 & 0\\\\\n\\end{tabular}\n",
            "text/markdown": "\nA data.frame: 6 × 26\n\n| <!--/--> | gender &lt;dbl&gt; | SeniorCitizen &lt;dbl&gt; | Partner &lt;dbl&gt; | Dependents &lt;dbl&gt; | PhoneService &lt;dbl&gt; | MultipleLines &lt;dbl&gt; | InternetService.xFiber.optic &lt;dbl&gt; | InternetService.xNo &lt;dbl&gt; | OnlineSecurity &lt;dbl&gt; | OnlineBackup &lt;dbl&gt; | ⋯ ⋯ | PaperlessBilling &lt;dbl&gt; | PaymentMethod.xCredit.card..automatic. &lt;dbl&gt; | PaymentMethod.xElectronic.check &lt;dbl&gt; | PaymentMethod.xMailed.check &lt;dbl&gt; | Churn &lt;dbl&gt; | tenure_bin.x1.2.years &lt;dbl&gt; | tenure_bin.x2.3.years &lt;dbl&gt; | tenure_bin.x3.4.years &lt;dbl&gt; | tenure_bin.x4.5.years &lt;dbl&gt; | tenure_bin.x5.6.years &lt;dbl&gt; |\n|---|---|---|---|---|---|---|---|---|---|---|---|---|---|---|---|---|---|---|---|---|---|\n| 1 | 0 | 0 | 1 | 0 | 0 | 0 | 0 | 0 | 0 | 1 | ⋯ | 1 | 0 | 1 | 0 | 0 | 0 | 0 | 0 | 0 | 0 |\n| 2 | 1 | 0 | 0 | 0 | 1 | 0 | 0 | 0 | 1 | 0 | ⋯ | 0 | 0 | 0 | 1 | 0 | 0 | 1 | 0 | 0 | 0 |\n| 3 | 1 | 0 | 0 | 0 | 1 | 0 | 0 | 0 | 1 | 1 | ⋯ | 1 | 0 | 0 | 1 | 1 | 0 | 0 | 0 | 0 | 0 |\n| 4 | 1 | 0 | 0 | 0 | 0 | 0 | 0 | 0 | 1 | 0 | ⋯ | 0 | 0 | 0 | 0 | 0 | 0 | 0 | 1 | 0 | 0 |\n| 5 | 0 | 0 | 0 | 0 | 1 | 0 | 1 | 0 | 0 | 0 | ⋯ | 1 | 0 | 1 | 0 | 1 | 0 | 0 | 0 | 0 | 0 |\n| 6 | 0 | 0 | 0 | 0 | 1 | 1 | 1 | 0 | 0 | 0 | ⋯ | 1 | 0 | 1 | 0 | 1 | 0 | 0 | 0 | 0 | 0 |\n\n",
            "text/html": [
              "<table class=\"dataframe\">\n",
              "<caption>A data.frame: 6 × 26</caption>\n",
              "<thead>\n",
              "\t<tr><th></th><th scope=col>gender</th><th scope=col>SeniorCitizen</th><th scope=col>Partner</th><th scope=col>Dependents</th><th scope=col>PhoneService</th><th scope=col>MultipleLines</th><th scope=col>InternetService.xFiber.optic</th><th scope=col>InternetService.xNo</th><th scope=col>OnlineSecurity</th><th scope=col>OnlineBackup</th><th scope=col>⋯</th><th scope=col>PaperlessBilling</th><th scope=col>PaymentMethod.xCredit.card..automatic.</th><th scope=col>PaymentMethod.xElectronic.check</th><th scope=col>PaymentMethod.xMailed.check</th><th scope=col>Churn</th><th scope=col>tenure_bin.x1.2.years</th><th scope=col>tenure_bin.x2.3.years</th><th scope=col>tenure_bin.x3.4.years</th><th scope=col>tenure_bin.x4.5.years</th><th scope=col>tenure_bin.x5.6.years</th></tr>\n",
              "\t<tr><th></th><th scope=col>&lt;dbl&gt;</th><th scope=col>&lt;dbl&gt;</th><th scope=col>&lt;dbl&gt;</th><th scope=col>&lt;dbl&gt;</th><th scope=col>&lt;dbl&gt;</th><th scope=col>&lt;dbl&gt;</th><th scope=col>&lt;dbl&gt;</th><th scope=col>&lt;dbl&gt;</th><th scope=col>&lt;dbl&gt;</th><th scope=col>&lt;dbl&gt;</th><th scope=col>⋯</th><th scope=col>&lt;dbl&gt;</th><th scope=col>&lt;dbl&gt;</th><th scope=col>&lt;dbl&gt;</th><th scope=col>&lt;dbl&gt;</th><th scope=col>&lt;dbl&gt;</th><th scope=col>&lt;dbl&gt;</th><th scope=col>&lt;dbl&gt;</th><th scope=col>&lt;dbl&gt;</th><th scope=col>&lt;dbl&gt;</th><th scope=col>&lt;dbl&gt;</th></tr>\n",
              "</thead>\n",
              "<tbody>\n",
              "\t<tr><th scope=row>1</th><td>0</td><td>0</td><td>1</td><td>0</td><td>0</td><td>0</td><td>0</td><td>0</td><td>0</td><td>1</td><td>⋯</td><td>1</td><td>0</td><td>1</td><td>0</td><td>0</td><td>0</td><td>0</td><td>0</td><td>0</td><td>0</td></tr>\n",
              "\t<tr><th scope=row>2</th><td>1</td><td>0</td><td>0</td><td>0</td><td>1</td><td>0</td><td>0</td><td>0</td><td>1</td><td>0</td><td>⋯</td><td>0</td><td>0</td><td>0</td><td>1</td><td>0</td><td>0</td><td>1</td><td>0</td><td>0</td><td>0</td></tr>\n",
              "\t<tr><th scope=row>3</th><td>1</td><td>0</td><td>0</td><td>0</td><td>1</td><td>0</td><td>0</td><td>0</td><td>1</td><td>1</td><td>⋯</td><td>1</td><td>0</td><td>0</td><td>1</td><td>1</td><td>0</td><td>0</td><td>0</td><td>0</td><td>0</td></tr>\n",
              "\t<tr><th scope=row>4</th><td>1</td><td>0</td><td>0</td><td>0</td><td>0</td><td>0</td><td>0</td><td>0</td><td>1</td><td>0</td><td>⋯</td><td>0</td><td>0</td><td>0</td><td>0</td><td>0</td><td>0</td><td>0</td><td>1</td><td>0</td><td>0</td></tr>\n",
              "\t<tr><th scope=row>5</th><td>0</td><td>0</td><td>0</td><td>0</td><td>1</td><td>0</td><td>1</td><td>0</td><td>0</td><td>0</td><td>⋯</td><td>1</td><td>0</td><td>1</td><td>0</td><td>1</td><td>0</td><td>0</td><td>0</td><td>0</td><td>0</td></tr>\n",
              "\t<tr><th scope=row>6</th><td>0</td><td>0</td><td>0</td><td>0</td><td>1</td><td>1</td><td>1</td><td>0</td><td>0</td><td>0</td><td>⋯</td><td>1</td><td>0</td><td>1</td><td>0</td><td>1</td><td>0</td><td>0</td><td>0</td><td>0</td><td>0</td></tr>\n",
              "</tbody>\n",
              "</table>\n"
            ]
          },
          "metadata": {
            "tags": []
          }
        }
      ]
    },
    {
      "cell_type": "markdown",
      "metadata": {
        "_uuid": "6e2dc9ef92c7e6dab05d0fa601748c5a45c724b5",
        "id": "TsBvdeHPGdVe"
      },
      "source": [
        "*Creating the final dataset by combining the numeric and dummy data frames.*"
      ]
    },
    {
      "cell_type": "code",
      "metadata": {
        "_uuid": "ee89feeddd432493e9e449c6a186ed6b5d700107",
        "trusted": true,
        "colab": {
          "base_uri": "https://localhost:8080/",
          "height": 303
        },
        "id": "toVQ5zQyGdVe",
        "outputId": "70b4c60a-76bd-4de4-bb48-8aa70f547c7d"
      },
      "source": [
        "#Combining the data\n",
        "telco_final <- cbind(telco_int,dummy)\n",
        "head(telco_final)"
      ],
      "execution_count": null,
      "outputs": [
        {
          "output_type": "display_data",
          "data": {
            "text/plain": [
              "  tenure      MonthlyCharges TotalCharges gender SeniorCitizen Partner\n",
              "1 -1.28015700 -1.1616113     -0.9941234   0      0             1      \n",
              "2  0.06429811 -0.2608594     -0.1737275   1      0             0      \n",
              "3 -1.23941594 -0.3638974     -0.9595809   1      0             0      \n",
              "4  0.51244982 -0.7477972     -0.1952338   1      0             0      \n",
              "5 -1.23941594  0.1961642     -0.9403906   0      0             0      \n",
              "6 -0.99496955  1.1584066     -0.6453233   0      0             0      \n",
              "  Dependents PhoneService MultipleLines InternetService.xFiber.optic ⋯\n",
              "1 0          0            0             0                            ⋯\n",
              "2 0          1            0             0                            ⋯\n",
              "3 0          1            0             0                            ⋯\n",
              "4 0          0            0             0                            ⋯\n",
              "5 0          1            0             1                            ⋯\n",
              "6 0          1            1             1                            ⋯\n",
              "  PaperlessBilling PaymentMethod.xCredit.card..automatic.\n",
              "1 1                0                                     \n",
              "2 0                0                                     \n",
              "3 1                0                                     \n",
              "4 0                0                                     \n",
              "5 1                0                                     \n",
              "6 1                0                                     \n",
              "  PaymentMethod.xElectronic.check PaymentMethod.xMailed.check Churn\n",
              "1 1                               0                           0    \n",
              "2 0                               1                           0    \n",
              "3 0                               1                           1    \n",
              "4 0                               0                           0    \n",
              "5 1                               0                           1    \n",
              "6 1                               0                           1    \n",
              "  tenure_bin.x1.2.years tenure_bin.x2.3.years tenure_bin.x3.4.years\n",
              "1 0                     0                     0                    \n",
              "2 0                     1                     0                    \n",
              "3 0                     0                     0                    \n",
              "4 0                     0                     1                    \n",
              "5 0                     0                     0                    \n",
              "6 0                     0                     0                    \n",
              "  tenure_bin.x4.5.years tenure_bin.x5.6.years\n",
              "1 0                     0                    \n",
              "2 0                     0                    \n",
              "3 0                     0                    \n",
              "4 0                     0                    \n",
              "5 0                     0                    \n",
              "6 0                     0                    "
            ],
            "text/latex": "A data.frame: 6 × 29\n\\begin{tabular}{r|lllllllllllllllllllll}\n  & tenure & MonthlyCharges & TotalCharges & gender & SeniorCitizen & Partner & Dependents & PhoneService & MultipleLines & InternetService.xFiber.optic & ⋯ & PaperlessBilling & PaymentMethod.xCredit.card..automatic. & PaymentMethod.xElectronic.check & PaymentMethod.xMailed.check & Churn & tenure\\_bin.x1.2.years & tenure\\_bin.x2.3.years & tenure\\_bin.x3.4.years & tenure\\_bin.x4.5.years & tenure\\_bin.x5.6.years\\\\\n  & <dbl> & <dbl> & <dbl> & <dbl> & <dbl> & <dbl> & <dbl> & <dbl> & <dbl> & <dbl> & ⋯ & <dbl> & <dbl> & <dbl> & <dbl> & <dbl> & <dbl> & <dbl> & <dbl> & <dbl> & <dbl>\\\\\n\\hline\n\t1 & -1.28015700 & -1.1616113 & -0.9941234 & 0 & 0 & 1 & 0 & 0 & 0 & 0 & ⋯ & 1 & 0 & 1 & 0 & 0 & 0 & 0 & 0 & 0 & 0\\\\\n\t2 &  0.06429811 & -0.2608594 & -0.1737275 & 1 & 0 & 0 & 0 & 1 & 0 & 0 & ⋯ & 0 & 0 & 0 & 1 & 0 & 0 & 1 & 0 & 0 & 0\\\\\n\t3 & -1.23941594 & -0.3638974 & -0.9595809 & 1 & 0 & 0 & 0 & 1 & 0 & 0 & ⋯ & 1 & 0 & 0 & 1 & 1 & 0 & 0 & 0 & 0 & 0\\\\\n\t4 &  0.51244982 & -0.7477972 & -0.1952338 & 1 & 0 & 0 & 0 & 0 & 0 & 0 & ⋯ & 0 & 0 & 0 & 0 & 0 & 0 & 0 & 1 & 0 & 0\\\\\n\t5 & -1.23941594 &  0.1961642 & -0.9403906 & 0 & 0 & 0 & 0 & 1 & 0 & 1 & ⋯ & 1 & 0 & 1 & 0 & 1 & 0 & 0 & 0 & 0 & 0\\\\\n\t6 & -0.99496955 &  1.1584066 & -0.6453233 & 0 & 0 & 0 & 0 & 1 & 1 & 1 & ⋯ & 1 & 0 & 1 & 0 & 1 & 0 & 0 & 0 & 0 & 0\\\\\n\\end{tabular}\n",
            "text/markdown": "\nA data.frame: 6 × 29\n\n| <!--/--> | tenure &lt;dbl&gt; | MonthlyCharges &lt;dbl&gt; | TotalCharges &lt;dbl&gt; | gender &lt;dbl&gt; | SeniorCitizen &lt;dbl&gt; | Partner &lt;dbl&gt; | Dependents &lt;dbl&gt; | PhoneService &lt;dbl&gt; | MultipleLines &lt;dbl&gt; | InternetService.xFiber.optic &lt;dbl&gt; | ⋯ ⋯ | PaperlessBilling &lt;dbl&gt; | PaymentMethod.xCredit.card..automatic. &lt;dbl&gt; | PaymentMethod.xElectronic.check &lt;dbl&gt; | PaymentMethod.xMailed.check &lt;dbl&gt; | Churn &lt;dbl&gt; | tenure_bin.x1.2.years &lt;dbl&gt; | tenure_bin.x2.3.years &lt;dbl&gt; | tenure_bin.x3.4.years &lt;dbl&gt; | tenure_bin.x4.5.years &lt;dbl&gt; | tenure_bin.x5.6.years &lt;dbl&gt; |\n|---|---|---|---|---|---|---|---|---|---|---|---|---|---|---|---|---|---|---|---|---|---|\n| 1 | -1.28015700 | -1.1616113 | -0.9941234 | 0 | 0 | 1 | 0 | 0 | 0 | 0 | ⋯ | 1 | 0 | 1 | 0 | 0 | 0 | 0 | 0 | 0 | 0 |\n| 2 |  0.06429811 | -0.2608594 | -0.1737275 | 1 | 0 | 0 | 0 | 1 | 0 | 0 | ⋯ | 0 | 0 | 0 | 1 | 0 | 0 | 1 | 0 | 0 | 0 |\n| 3 | -1.23941594 | -0.3638974 | -0.9595809 | 1 | 0 | 0 | 0 | 1 | 0 | 0 | ⋯ | 1 | 0 | 0 | 1 | 1 | 0 | 0 | 0 | 0 | 0 |\n| 4 |  0.51244982 | -0.7477972 | -0.1952338 | 1 | 0 | 0 | 0 | 0 | 0 | 0 | ⋯ | 0 | 0 | 0 | 0 | 0 | 0 | 0 | 1 | 0 | 0 |\n| 5 | -1.23941594 |  0.1961642 | -0.9403906 | 0 | 0 | 0 | 0 | 1 | 0 | 1 | ⋯ | 1 | 0 | 1 | 0 | 1 | 0 | 0 | 0 | 0 | 0 |\n| 6 | -0.99496955 |  1.1584066 | -0.6453233 | 0 | 0 | 0 | 0 | 1 | 1 | 1 | ⋯ | 1 | 0 | 1 | 0 | 1 | 0 | 0 | 0 | 0 | 0 |\n\n",
            "text/html": [
              "<table class=\"dataframe\">\n",
              "<caption>A data.frame: 6 × 29</caption>\n",
              "<thead>\n",
              "\t<tr><th></th><th scope=col>tenure</th><th scope=col>MonthlyCharges</th><th scope=col>TotalCharges</th><th scope=col>gender</th><th scope=col>SeniorCitizen</th><th scope=col>Partner</th><th scope=col>Dependents</th><th scope=col>PhoneService</th><th scope=col>MultipleLines</th><th scope=col>InternetService.xFiber.optic</th><th scope=col>⋯</th><th scope=col>PaperlessBilling</th><th scope=col>PaymentMethod.xCredit.card..automatic.</th><th scope=col>PaymentMethod.xElectronic.check</th><th scope=col>PaymentMethod.xMailed.check</th><th scope=col>Churn</th><th scope=col>tenure_bin.x1.2.years</th><th scope=col>tenure_bin.x2.3.years</th><th scope=col>tenure_bin.x3.4.years</th><th scope=col>tenure_bin.x4.5.years</th><th scope=col>tenure_bin.x5.6.years</th></tr>\n",
              "\t<tr><th></th><th scope=col>&lt;dbl&gt;</th><th scope=col>&lt;dbl&gt;</th><th scope=col>&lt;dbl&gt;</th><th scope=col>&lt;dbl&gt;</th><th scope=col>&lt;dbl&gt;</th><th scope=col>&lt;dbl&gt;</th><th scope=col>&lt;dbl&gt;</th><th scope=col>&lt;dbl&gt;</th><th scope=col>&lt;dbl&gt;</th><th scope=col>&lt;dbl&gt;</th><th scope=col>⋯</th><th scope=col>&lt;dbl&gt;</th><th scope=col>&lt;dbl&gt;</th><th scope=col>&lt;dbl&gt;</th><th scope=col>&lt;dbl&gt;</th><th scope=col>&lt;dbl&gt;</th><th scope=col>&lt;dbl&gt;</th><th scope=col>&lt;dbl&gt;</th><th scope=col>&lt;dbl&gt;</th><th scope=col>&lt;dbl&gt;</th><th scope=col>&lt;dbl&gt;</th></tr>\n",
              "</thead>\n",
              "<tbody>\n",
              "\t<tr><th scope=row>1</th><td>-1.28015700</td><td>-1.1616113</td><td>-0.9941234</td><td>0</td><td>0</td><td>1</td><td>0</td><td>0</td><td>0</td><td>0</td><td>⋯</td><td>1</td><td>0</td><td>1</td><td>0</td><td>0</td><td>0</td><td>0</td><td>0</td><td>0</td><td>0</td></tr>\n",
              "\t<tr><th scope=row>2</th><td> 0.06429811</td><td>-0.2608594</td><td>-0.1737275</td><td>1</td><td>0</td><td>0</td><td>0</td><td>1</td><td>0</td><td>0</td><td>⋯</td><td>0</td><td>0</td><td>0</td><td>1</td><td>0</td><td>0</td><td>1</td><td>0</td><td>0</td><td>0</td></tr>\n",
              "\t<tr><th scope=row>3</th><td>-1.23941594</td><td>-0.3638974</td><td>-0.9595809</td><td>1</td><td>0</td><td>0</td><td>0</td><td>1</td><td>0</td><td>0</td><td>⋯</td><td>1</td><td>0</td><td>0</td><td>1</td><td>1</td><td>0</td><td>0</td><td>0</td><td>0</td><td>0</td></tr>\n",
              "\t<tr><th scope=row>4</th><td> 0.51244982</td><td>-0.7477972</td><td>-0.1952338</td><td>1</td><td>0</td><td>0</td><td>0</td><td>0</td><td>0</td><td>0</td><td>⋯</td><td>0</td><td>0</td><td>0</td><td>0</td><td>0</td><td>0</td><td>0</td><td>1</td><td>0</td><td>0</td></tr>\n",
              "\t<tr><th scope=row>5</th><td>-1.23941594</td><td> 0.1961642</td><td>-0.9403906</td><td>0</td><td>0</td><td>0</td><td>0</td><td>1</td><td>0</td><td>1</td><td>⋯</td><td>1</td><td>0</td><td>1</td><td>0</td><td>1</td><td>0</td><td>0</td><td>0</td><td>0</td><td>0</td></tr>\n",
              "\t<tr><th scope=row>6</th><td>-0.99496955</td><td> 1.1584066</td><td>-0.6453233</td><td>0</td><td>0</td><td>0</td><td>0</td><td>1</td><td>1</td><td>1</td><td>⋯</td><td>1</td><td>0</td><td>1</td><td>0</td><td>1</td><td>0</td><td>0</td><td>0</td><td>0</td><td>0</td></tr>\n",
              "</tbody>\n",
              "</table>\n"
            ]
          },
          "metadata": {
            "tags": []
          }
        }
      ]
    },
    {
      "cell_type": "markdown",
      "metadata": {
        "_uuid": "1c38e5451ae2d124d7cc7308a6273c17e0dd2821",
        "id": "I6XVf52eGdVf"
      },
      "source": [
        "*Splitting the data into train and validation data.*"
      ]
    },
    {
      "cell_type": "code",
      "metadata": {
        "_uuid": "de6a1aaeac925f923bdd104954262d8b861a74f5",
        "trusted": true,
        "id": "H_-KRQBcGdVf"
      },
      "source": [
        "#Splitting the data\n",
        "set.seed(123)\n",
        "indices = sample.split(telco_final$Churn, SplitRatio = 0.7)\n",
        "train = telco_final[indices,]\n",
        "validation = telco_final[!(indices),]"
      ],
      "execution_count": null,
      "outputs": []
    },
    {
      "cell_type": "markdown",
      "metadata": {
        "_uuid": "eec55cf7bf1acc29e1798913e9248ba5e50dc067",
        "id": "Fa8sJXYQGdVf"
      },
      "source": [
        "**MODEL BUILDING 1**\n",
        "\n",
        "**Starting with Logistic Regression**"
      ]
    },
    {
      "cell_type": "code",
      "metadata": {
        "_uuid": "f07733a5f45fc3d2a6578c7422551e0faa8b0316",
        "trusted": true,
        "colab": {
          "base_uri": "https://localhost:8080/",
          "height": 1000
        },
        "id": "PGG4zxxPGdVf",
        "outputId": "0ca4cb59-7c0c-4575-e7b7-1f6864d7f7d5"
      },
      "source": [
        "#Build the first model using all variables\n",
        "model_1 = glm(Churn ~ ., data = train, family = \"binomial\")\n",
        "summary(model_1) "
      ],
      "execution_count": null,
      "outputs": [
        {
          "output_type": "display_data",
          "data": {
            "text/plain": [
              "\n",
              "Call:\n",
              "glm(formula = Churn ~ ., family = \"binomial\", data = train)\n",
              "\n",
              "Deviance Residuals: \n",
              "    Min       1Q   Median       3Q      Max  \n",
              "-2.0959  -0.6765  -0.2674   0.6331   3.3919  \n",
              "\n",
              "Coefficients:\n",
              "                                        Estimate Std. Error z value Pr(>|z|)\n",
              "(Intercept)                            -4.711690   1.580952  -2.980 0.002880\n",
              "tenure                                 -2.419264   0.319733  -7.567 3.83e-14\n",
              "MonthlyCharges                         -1.523039   1.152472  -1.322 0.186321\n",
              "TotalCharges                            0.236922   0.200225   1.183 0.236699\n",
              "gender                                 -0.004319   0.078799  -0.055 0.956292\n",
              "SeniorCitizen                           0.342668   0.102039   3.358 0.000784\n",
              "Partner                                 0.049639   0.095330   0.521 0.602570\n",
              "Dependents                             -0.148501   0.110427  -1.345 0.178693\n",
              "PhoneService                            0.597310   0.785026   0.761 0.446729\n",
              "MultipleLines                           0.529622   0.214832   2.465 0.013691\n",
              "InternetService.xFiber.optic            2.048017   0.960709   2.132 0.033025\n",
              "InternetService.xNo                    -2.254724   0.975826  -2.311 0.020856\n",
              "OnlineSecurity                         -0.177982   0.215524  -0.826 0.408913\n",
              "OnlineBackup                            0.126834   0.211103   0.601 0.547964\n",
              "DeviceProtection                        0.255562   0.213872   1.195 0.232114\n",
              "TechSupport                            -0.026070   0.215506  -0.121 0.903713\n",
              "StreamingTV                             0.756980   0.393508   1.924 0.054396\n",
              "StreamingMovies                         0.710913   0.394744   1.801 0.071711\n",
              "Contract.xOne.year                     -0.693044   0.130362  -5.316 1.06e-07\n",
              "Contract.xTwo.year                     -1.657976   0.233538  -7.099 1.25e-12\n",
              "PaperlessBilling                        0.384841   0.090753   4.241 2.23e-05\n",
              "PaymentMethod.xCredit.card..automatic. -0.050640   0.137167  -0.369 0.711991\n",
              "PaymentMethod.xElectronic.check         0.249223   0.113791   2.190 0.028512\n",
              "PaymentMethod.xMailed.check            -0.076660   0.138636  -0.553 0.580291\n",
              "tenure_bin.x1.2.years                   0.147347   0.191048   0.771 0.440556\n",
              "tenure_bin.x2.3.years                   0.964780   0.314795   3.065 0.002178\n",
              "tenure_bin.x3.4.years                   1.955341   0.447108   4.373 1.22e-05\n",
              "tenure_bin.x4.5.years                   2.801222   0.582303   4.811 1.50e-06\n",
              "tenure_bin.x5.6.years                   3.598926   0.728585   4.940 7.83e-07\n",
              "                                          \n",
              "(Intercept)                            ** \n",
              "tenure                                 ***\n",
              "MonthlyCharges                            \n",
              "TotalCharges                              \n",
              "gender                                    \n",
              "SeniorCitizen                          ***\n",
              "Partner                                   \n",
              "Dependents                                \n",
              "PhoneService                              \n",
              "MultipleLines                          *  \n",
              "InternetService.xFiber.optic           *  \n",
              "InternetService.xNo                    *  \n",
              "OnlineSecurity                            \n",
              "OnlineBackup                              \n",
              "DeviceProtection                          \n",
              "TechSupport                               \n",
              "StreamingTV                            .  \n",
              "StreamingMovies                        .  \n",
              "Contract.xOne.year                     ***\n",
              "Contract.xTwo.year                     ***\n",
              "PaperlessBilling                       ***\n",
              "PaymentMethod.xCredit.card..automatic.    \n",
              "PaymentMethod.xElectronic.check        *  \n",
              "PaymentMethod.xMailed.check               \n",
              "tenure_bin.x1.2.years                     \n",
              "tenure_bin.x2.3.years                  ** \n",
              "tenure_bin.x3.4.years                  ***\n",
              "tenure_bin.x4.5.years                  ***\n",
              "tenure_bin.x5.6.years                  ***\n",
              "---\n",
              "Signif. codes:  0 ‘***’ 0.001 ‘**’ 0.01 ‘*’ 0.05 ‘.’ 0.1 ‘ ’ 1\n",
              "\n",
              "(Dispersion parameter for binomial family taken to be 1)\n",
              "\n",
              "    Null deviance: 5699.5  on 4921  degrees of freedom\n",
              "Residual deviance: 3983.3  on 4893  degrees of freedom\n",
              "AIC: 4041.3\n",
              "\n",
              "Number of Fisher Scoring iterations: 6\n"
            ]
          },
          "metadata": {
            "tags": []
          }
        }
      ]
    },
    {
      "cell_type": "markdown",
      "metadata": {
        "_uuid": "7441ca227f98abc6249bcba6495c8535403d5c74",
        "id": "fftMWAG7GdVf"
      },
      "source": [
        "Using stepAIC for variable selection, which is a iterative process of adding or removing variables, in order to get a subset of variables that gives the best performing model."
      ]
    },
    {
      "cell_type": "code",
      "metadata": {
        "_uuid": "cfafb2d210406653fa2cd3835405e7a69ff72a9d",
        "_kg_hide-output": true,
        "trusted": true,
        "colab": {
          "base_uri": "https://localhost:8080/"
        },
        "id": "TsoLoYPCGdVg",
        "outputId": "63d65f49-cb1b-49cb-86f6-07b96513ebe8"
      },
      "source": [
        "model_2<- stepAIC(model_1, direction=\"both\")"
      ],
      "execution_count": null,
      "outputs": [
        {
          "output_type": "stream",
          "text": [
            "Start:  AIC=4041.29\n",
            "Churn ~ tenure + MonthlyCharges + TotalCharges + gender + SeniorCitizen + \n",
            "    Partner + Dependents + PhoneService + MultipleLines + InternetService.xFiber.optic + \n",
            "    InternetService.xNo + OnlineSecurity + OnlineBackup + DeviceProtection + \n",
            "    TechSupport + StreamingTV + StreamingMovies + Contract.xOne.year + \n",
            "    Contract.xTwo.year + PaperlessBilling + PaymentMethod.xCredit.card..automatic. + \n",
            "    PaymentMethod.xElectronic.check + PaymentMethod.xMailed.check + \n",
            "    tenure_bin.x1.2.years + tenure_bin.x2.3.years + tenure_bin.x3.4.years + \n",
            "    tenure_bin.x4.5.years + tenure_bin.x5.6.years\n",
            "\n",
            "                                         Df Deviance    AIC\n",
            "- gender                                  1   3983.3 4039.3\n",
            "- TechSupport                             1   3983.3 4039.3\n",
            "- PaymentMethod.xCredit.card..automatic.  1   3983.4 4039.4\n",
            "- Partner                                 1   3983.6 4039.6\n",
            "- PaymentMethod.xMailed.check             1   3983.6 4039.6\n",
            "- OnlineBackup                            1   3983.7 4039.7\n",
            "- PhoneService                            1   3983.9 4039.9\n",
            "- tenure_bin.x1.2.years                   1   3983.9 4039.9\n",
            "- OnlineSecurity                          1   3984.0 4040.0\n",
            "- DeviceProtection                        1   3984.7 4040.7\n",
            "- TotalCharges                            1   3984.7 4040.7\n",
            "- MonthlyCharges                          1   3985.0 4041.0\n",
            "- Dependents                              1   3985.1 4041.1\n",
            "<none>                                        3983.3 4041.3\n",
            "- StreamingMovies                         1   3986.5 4042.5\n",
            "- StreamingTV                             1   3987.0 4043.0\n",
            "- InternetService.xFiber.optic            1   3987.8 4043.8\n",
            "- PaymentMethod.xElectronic.check         1   3988.1 4044.1\n",
            "- InternetService.xNo                     1   3988.6 4044.6\n",
            "- MultipleLines                           1   3989.4 4045.4\n",
            "- tenure_bin.x2.3.years                   1   3992.7 4048.7\n",
            "- SeniorCitizen                           1   3994.5 4050.5\n",
            "- PaperlessBilling                        1   4001.4 4057.4\n",
            "- tenure_bin.x3.4.years                   1   4002.5 4058.5\n",
            "- tenure_bin.x4.5.years                   1   4006.6 4062.6\n",
            "- tenure_bin.x5.6.years                   1   4007.9 4063.9\n",
            "- Contract.xOne.year                      1   4012.9 4068.9\n",
            "- tenure                                  1   4042.6 4098.6\n",
            "- Contract.xTwo.year                      1   4046.3 4102.3\n",
            "\n",
            "Step:  AIC=4039.29\n",
            "Churn ~ tenure + MonthlyCharges + TotalCharges + SeniorCitizen + \n",
            "    Partner + Dependents + PhoneService + MultipleLines + InternetService.xFiber.optic + \n",
            "    InternetService.xNo + OnlineSecurity + OnlineBackup + DeviceProtection + \n",
            "    TechSupport + StreamingTV + StreamingMovies + Contract.xOne.year + \n",
            "    Contract.xTwo.year + PaperlessBilling + PaymentMethod.xCredit.card..automatic. + \n",
            "    PaymentMethod.xElectronic.check + PaymentMethod.xMailed.check + \n",
            "    tenure_bin.x1.2.years + tenure_bin.x2.3.years + tenure_bin.x3.4.years + \n",
            "    tenure_bin.x4.5.years + tenure_bin.x5.6.years\n",
            "\n",
            "                                         Df Deviance    AIC\n",
            "- TechSupport                             1   3983.3 4037.3\n",
            "- PaymentMethod.xCredit.card..automatic.  1   3983.4 4037.4\n",
            "- Partner                                 1   3983.6 4037.6\n",
            "- PaymentMethod.xMailed.check             1   3983.6 4037.6\n",
            "- OnlineBackup                            1   3983.7 4037.7\n",
            "- PhoneService                            1   3983.9 4037.9\n",
            "- tenure_bin.x1.2.years                   1   3983.9 4037.9\n",
            "- OnlineSecurity                          1   3984.0 4038.0\n",
            "- TotalCharges                            1   3984.7 4038.7\n",
            "- DeviceProtection                        1   3984.7 4038.7\n",
            "- MonthlyCharges                          1   3985.0 4039.0\n",
            "- Dependents                              1   3985.1 4039.1\n",
            "<none>                                        3983.3 4039.3\n",
            "- StreamingMovies                         1   3986.6 4040.6\n",
            "- StreamingTV                             1   3987.0 4041.0\n",
            "+ gender                                  1   3983.3 4041.3\n",
            "- InternetService.xFiber.optic            1   3987.9 4041.9\n",
            "- PaymentMethod.xElectronic.check         1   3988.1 4042.1\n",
            "- InternetService.xNo                     1   3988.6 4042.6\n",
            "- MultipleLines                           1   3989.4 4043.4\n",
            "- tenure_bin.x2.3.years                   1   3992.7 4046.7\n",
            "- SeniorCitizen                           1   3994.6 4048.6\n",
            "- PaperlessBilling                        1   4001.4 4055.4\n",
            "- tenure_bin.x3.4.years                   1   4002.6 4056.6\n",
            "- tenure_bin.x4.5.years                   1   4006.6 4060.6\n",
            "- tenure_bin.x5.6.years                   1   4007.9 4061.9\n",
            "- Contract.xOne.year                      1   4012.9 4066.9\n",
            "- tenure                                  1   4042.6 4096.6\n",
            "- Contract.xTwo.year                      1   4046.3 4100.3\n",
            "\n",
            "Step:  AIC=4037.31\n",
            "Churn ~ tenure + MonthlyCharges + TotalCharges + SeniorCitizen + \n",
            "    Partner + Dependents + PhoneService + MultipleLines + InternetService.xFiber.optic + \n",
            "    InternetService.xNo + OnlineSecurity + OnlineBackup + DeviceProtection + \n",
            "    StreamingTV + StreamingMovies + Contract.xOne.year + Contract.xTwo.year + \n",
            "    PaperlessBilling + PaymentMethod.xCredit.card..automatic. + \n",
            "    PaymentMethod.xElectronic.check + PaymentMethod.xMailed.check + \n",
            "    tenure_bin.x1.2.years + tenure_bin.x2.3.years + tenure_bin.x3.4.years + \n",
            "    tenure_bin.x4.5.years + tenure_bin.x5.6.years\n",
            "\n",
            "                                         Df Deviance    AIC\n",
            "- PaymentMethod.xCredit.card..automatic.  1   3983.4 4035.4\n",
            "- Partner                                 1   3983.6 4035.6\n",
            "- PaymentMethod.xMailed.check             1   3983.6 4035.6\n",
            "- tenure_bin.x1.2.years                   1   3983.9 4035.9\n",
            "- OnlineBackup                            1   3984.6 4036.6\n",
            "- OnlineSecurity                          1   3984.6 4036.6\n",
            "- TotalCharges                            1   3984.7 4036.7\n",
            "- Dependents                              1   3985.1 4037.1\n",
            "<none>                                        3983.3 4037.3\n",
            "- PhoneService                            1   3986.2 4038.2\n",
            "+ TechSupport                             1   3983.3 4039.3\n",
            "+ gender                                  1   3983.3 4039.3\n",
            "- DeviceProtection                        1   3987.5 4039.5\n",
            "- PaymentMethod.xElectronic.check         1   3988.1 4040.1\n",
            "- MonthlyCharges                          1   3992.2 4044.2\n",
            "- tenure_bin.x2.3.years                   1   3992.8 4044.8\n",
            "- SeniorCitizen                           1   3994.6 4046.6\n",
            "- StreamingMovies                         1   3996.4 4048.4\n",
            "- StreamingTV                             1   3997.9 4049.9\n",
            "- MultipleLines                           1   4000.8 4052.8\n",
            "- PaperlessBilling                        1   4001.4 4053.4\n",
            "- tenure_bin.x3.4.years                   1   4002.6 4054.6\n",
            "- InternetService.xNo                     1   4004.4 4056.4\n",
            "- InternetService.xFiber.optic            1   4005.7 4057.7\n",
            "- tenure_bin.x4.5.years                   1   4006.7 4058.7\n",
            "- tenure_bin.x5.6.years                   1   4008.0 4060.0\n",
            "- Contract.xOne.year                      1   4013.1 4065.1\n",
            "- tenure                                  1   4042.7 4094.7\n",
            "- Contract.xTwo.year                      1   4046.8 4098.8\n",
            "\n",
            "Step:  AIC=4035.44\n",
            "Churn ~ tenure + MonthlyCharges + TotalCharges + SeniorCitizen + \n",
            "    Partner + Dependents + PhoneService + MultipleLines + InternetService.xFiber.optic + \n",
            "    InternetService.xNo + OnlineSecurity + OnlineBackup + DeviceProtection + \n",
            "    StreamingTV + StreamingMovies + Contract.xOne.year + Contract.xTwo.year + \n",
            "    PaperlessBilling + PaymentMethod.xElectronic.check + PaymentMethod.xMailed.check + \n",
            "    tenure_bin.x1.2.years + tenure_bin.x2.3.years + tenure_bin.x3.4.years + \n",
            "    tenure_bin.x4.5.years + tenure_bin.x5.6.years\n",
            "\n",
            "                                         Df Deviance    AIC\n",
            "- PaymentMethod.xMailed.check             1   3983.6 4033.6\n",
            "- Partner                                 1   3983.7 4033.7\n",
            "- tenure_bin.x1.2.years                   1   3984.0 4034.0\n",
            "- OnlineBackup                            1   3984.7 4034.7\n",
            "- OnlineSecurity                          1   3984.7 4034.7\n",
            "- TotalCharges                            1   3984.9 4034.9\n",
            "- Dependents                              1   3985.3 4035.3\n",
            "<none>                                        3983.4 4035.4\n",
            "- PhoneService                            1   3986.3 4036.3\n",
            "+ PaymentMethod.xCredit.card..automatic.  1   3983.3 4037.3\n",
            "+ TechSupport                             1   3983.4 4037.4\n",
            "+ gender                                  1   3983.4 4037.4\n",
            "- DeviceProtection                        1   3987.6 4037.6\n",
            "- PaymentMethod.xElectronic.check         1   3991.9 4041.9\n",
            "- MonthlyCharges                          1   3992.3 4042.3\n",
            "- tenure_bin.x2.3.years                   1   3992.8 4042.8\n",
            "- SeniorCitizen                           1   3994.8 4044.8\n",
            "- StreamingMovies                         1   3996.5 4046.5\n",
            "- StreamingTV                             1   3998.1 4048.1\n",
            "- MultipleLines                           1   4000.9 4050.9\n",
            "- PaperlessBilling                        1   4001.6 4051.6\n",
            "- tenure_bin.x3.4.years                   1   4002.7 4052.7\n",
            "- InternetService.xNo                     1   4004.5 4054.5\n",
            "- InternetService.xFiber.optic            1   4005.8 4055.8\n",
            "- tenure_bin.x4.5.years                   1   4006.8 4056.8\n",
            "- tenure_bin.x5.6.years                   1   4008.0 4058.0\n",
            "- Contract.xOne.year                      1   4013.3 4063.3\n",
            "- tenure                                  1   4042.8 4092.8\n",
            "- Contract.xTwo.year                      1   4047.0 4097.0\n",
            "\n",
            "Step:  AIC=4033.63\n",
            "Churn ~ tenure + MonthlyCharges + TotalCharges + SeniorCitizen + \n",
            "    Partner + Dependents + PhoneService + MultipleLines + InternetService.xFiber.optic + \n",
            "    InternetService.xNo + OnlineSecurity + OnlineBackup + DeviceProtection + \n",
            "    StreamingTV + StreamingMovies + Contract.xOne.year + Contract.xTwo.year + \n",
            "    PaperlessBilling + PaymentMethod.xElectronic.check + tenure_bin.x1.2.years + \n",
            "    tenure_bin.x2.3.years + tenure_bin.x3.4.years + tenure_bin.x4.5.years + \n",
            "    tenure_bin.x5.6.years\n",
            "\n",
            "                                         Df Deviance    AIC\n",
            "- Partner                                 1   3983.9 4031.9\n",
            "- tenure_bin.x1.2.years                   1   3984.2 4032.2\n",
            "- OnlineSecurity                          1   3984.9 4032.9\n",
            "- OnlineBackup                            1   3984.9 4032.9\n",
            "- TotalCharges                            1   3985.0 4033.0\n",
            "- Dependents                              1   3985.5 4033.5\n",
            "<none>                                        3983.6 4033.6\n",
            "- PhoneService                            1   3986.5 4034.5\n",
            "+ PaymentMethod.xMailed.check             1   3983.4 4035.4\n",
            "+ TechSupport                             1   3983.6 4035.6\n",
            "+ PaymentMethod.xCredit.card..automatic.  1   3983.6 4035.6\n",
            "+ gender                                  1   3983.6 4035.6\n",
            "- DeviceProtection                        1   3987.8 4035.8\n",
            "- MonthlyCharges                          1   3992.5 4040.5\n",
            "- tenure_bin.x2.3.years                   1   3993.0 4041.0\n",
            "- SeniorCitizen                           1   3995.0 4043.0\n",
            "- PaymentMethod.xElectronic.check         1   3995.4 4043.4\n",
            "- StreamingMovies                         1   3996.8 4044.8\n",
            "- StreamingTV                             1   3998.3 4046.3\n",
            "- MultipleLines                           1   4001.3 4049.3\n",
            "- PaperlessBilling                        1   4001.9 4049.9\n",
            "- tenure_bin.x3.4.years                   1   4002.8 4050.8\n",
            "- InternetService.xNo                     1   4005.0 4053.0\n",
            "- InternetService.xFiber.optic            1   4006.2 4054.2\n",
            "- tenure_bin.x4.5.years                   1   4006.8 4054.8\n",
            "- tenure_bin.x5.6.years                   1   4008.1 4056.1\n",
            "- Contract.xOne.year                      1   4013.5 4061.5\n",
            "- tenure                                  1   4043.0 4091.0\n",
            "- Contract.xTwo.year                      1   4047.1 4095.1\n",
            "\n",
            "Step:  AIC=4031.93\n",
            "Churn ~ tenure + MonthlyCharges + TotalCharges + SeniorCitizen + \n",
            "    Dependents + PhoneService + MultipleLines + InternetService.xFiber.optic + \n",
            "    InternetService.xNo + OnlineSecurity + OnlineBackup + DeviceProtection + \n",
            "    StreamingTV + StreamingMovies + Contract.xOne.year + Contract.xTwo.year + \n",
            "    PaperlessBilling + PaymentMethod.xElectronic.check + tenure_bin.x1.2.years + \n",
            "    tenure_bin.x2.3.years + tenure_bin.x3.4.years + tenure_bin.x4.5.years + \n",
            "    tenure_bin.x5.6.years\n",
            "\n",
            "                                         Df Deviance    AIC\n",
            "- tenure_bin.x1.2.years                   1   3984.5 4030.5\n",
            "- OnlineSecurity                          1   3985.2 4031.2\n",
            "- OnlineBackup                            1   3985.2 4031.2\n",
            "- TotalCharges                            1   3985.3 4031.3\n",
            "- Dependents                              1   3985.5 4031.5\n",
            "<none>                                        3983.9 4031.9\n",
            "- PhoneService                            1   3986.8 4032.8\n",
            "+ Partner                                 1   3983.6 4033.6\n",
            "+ PaymentMethod.xMailed.check             1   3983.7 4033.7\n",
            "+ PaymentMethod.xCredit.card..automatic.  1   3983.9 4033.9\n",
            "+ TechSupport                             1   3983.9 4033.9\n",
            "+ gender                                  1   3983.9 4033.9\n",
            "- DeviceProtection                        1   3988.2 4034.2\n",
            "- MonthlyCharges                          1   3992.9 4038.9\n",
            "- tenure_bin.x2.3.years                   1   3993.2 4039.2\n",
            "- PaymentMethod.xElectronic.check         1   3995.7 4041.7\n",
            "- SeniorCitizen                           1   3995.7 4041.7\n",
            "- StreamingMovies                         1   3997.2 4043.2\n",
            "- StreamingTV                             1   3998.7 4044.7\n",
            "- MultipleLines                           1   4001.7 4047.7\n",
            "- PaperlessBilling                        1   4002.3 4048.3\n",
            "- tenure_bin.x3.4.years                   1   4002.9 4048.9\n",
            "- InternetService.xNo                     1   4005.4 4051.4\n",
            "- InternetService.xFiber.optic            1   4006.7 4052.7\n",
            "- tenure_bin.x4.5.years                   1   4007.0 4053.0\n",
            "- tenure_bin.x5.6.years                   1   4008.2 4054.2\n",
            "- Contract.xOne.year                      1   4013.8 4059.8\n",
            "- tenure                                  1   4043.0 4089.0\n",
            "- Contract.xTwo.year                      1   4047.5 4093.5\n",
            "\n",
            "Step:  AIC=4030.5\n",
            "Churn ~ tenure + MonthlyCharges + TotalCharges + SeniorCitizen + \n",
            "    Dependents + PhoneService + MultipleLines + InternetService.xFiber.optic + \n",
            "    InternetService.xNo + OnlineSecurity + OnlineBackup + DeviceProtection + \n",
            "    StreamingTV + StreamingMovies + Contract.xOne.year + Contract.xTwo.year + \n",
            "    PaperlessBilling + PaymentMethod.xElectronic.check + tenure_bin.x2.3.years + \n",
            "    tenure_bin.x3.4.years + tenure_bin.x4.5.years + tenure_bin.x5.6.years\n",
            "\n",
            "                                         Df Deviance    AIC\n",
            "- TotalCharges                            1   3985.8 4029.8\n",
            "- OnlineBackup                            1   3985.8 4029.8\n",
            "- OnlineSecurity                          1   3985.8 4029.8\n",
            "- Dependents                              1   3986.0 4030.0\n",
            "<none>                                        3984.5 4030.5\n",
            "- PhoneService                            1   3987.4 4031.4\n",
            "+ tenure_bin.x1.2.years                   1   3983.9 4031.9\n",
            "+ Partner                                 1   3984.2 4032.2\n",
            "+ PaymentMethod.xMailed.check             1   3984.3 4032.3\n",
            "+ TechSupport                             1   3984.5 4032.5\n",
            "+ PaymentMethod.xCredit.card..automatic.  1   3984.5 4032.5\n",
            "+ gender                                  1   3984.5 4032.5\n",
            "- DeviceProtection                        1   3988.7 4032.7\n",
            "- MonthlyCharges                          1   3993.4 4037.4\n",
            "- PaymentMethod.xElectronic.check         1   3996.2 4040.2\n",
            "- SeniorCitizen                           1   3996.3 4040.3\n",
            "- StreamingMovies                         1   3997.7 4041.7\n",
            "- StreamingTV                             1   3999.2 4043.2\n",
            "- tenure_bin.x2.3.years                   1   4000.3 4044.3\n",
            "- MultipleLines                           1   4002.2 4046.2\n",
            "- PaperlessBilling                        1   4002.9 4046.9\n",
            "- InternetService.xNo                     1   4005.8 4049.8\n",
            "- InternetService.xFiber.optic            1   4007.2 4051.2\n",
            "- Contract.xOne.year                      1   4014.3 4058.3\n",
            "- tenure_bin.x3.4.years                   1   4022.8 4066.8\n",
            "- tenure_bin.x4.5.years                   1   4032.5 4076.5\n",
            "- tenure_bin.x5.6.years                   1   4033.0 4077.0\n",
            "- Contract.xTwo.year                      1   4049.2 4093.2\n",
            "- tenure                                  1   4099.3 4143.3\n",
            "\n",
            "Step:  AIC=4029.75\n",
            "Churn ~ tenure + MonthlyCharges + SeniorCitizen + Dependents + \n",
            "    PhoneService + MultipleLines + InternetService.xFiber.optic + \n",
            "    InternetService.xNo + OnlineSecurity + OnlineBackup + DeviceProtection + \n",
            "    StreamingTV + StreamingMovies + Contract.xOne.year + Contract.xTwo.year + \n",
            "    PaperlessBilling + PaymentMethod.xElectronic.check + tenure_bin.x2.3.years + \n",
            "    tenure_bin.x3.4.years + tenure_bin.x4.5.years + tenure_bin.x5.6.years\n",
            "\n",
            "                                         Df Deviance    AIC\n",
            "- OnlineBackup                            1   3987.0 4029.0\n",
            "- OnlineSecurity                          1   3987.1 4029.1\n",
            "- Dependents                              1   3987.3 4029.3\n",
            "<none>                                        3985.8 4029.8\n",
            "- PhoneService                            1   3988.5 4030.5\n",
            "+ TotalCharges                            1   3984.5 4030.5\n",
            "+ tenure_bin.x1.2.years                   1   3985.3 4031.3\n",
            "+ Partner                                 1   3985.5 4031.5\n",
            "+ PaymentMethod.xMailed.check             1   3985.6 4031.6\n",
            "+ PaymentMethod.xCredit.card..automatic.  1   3985.7 4031.7\n",
            "+ TechSupport                             1   3985.7 4031.7\n",
            "+ gender                                  1   3985.7 4031.7\n",
            "- DeviceProtection                        1   3990.0 4032.0\n",
            "- MonthlyCharges                          1   3993.8 4035.8\n",
            "- PaymentMethod.xElectronic.check         1   3997.1 4039.1\n",
            "- SeniorCitizen                           1   3997.6 4039.6\n",
            "- StreamingMovies                         1   3998.7 4040.7\n",
            "- StreamingTV                             1   4000.2 4042.2\n",
            "- tenure_bin.x2.3.years                   1   4002.5 4044.5\n",
            "- MultipleLines                           1   4003.7 4045.7\n",
            "- PaperlessBilling                        1   4003.9 4045.9\n",
            "- InternetService.xNo                     1   4006.1 4048.1\n",
            "- InternetService.xFiber.optic            1   4007.9 4049.9\n",
            "- Contract.xOne.year                      1   4015.9 4057.9\n",
            "- tenure_bin.x3.4.years                   1   4028.0 4070.0\n",
            "- tenure_bin.x4.5.years                   1   4041.1 4083.1\n",
            "- tenure_bin.x5.6.years                   1   4046.5 4088.5\n",
            "- Contract.xTwo.year                      1   4052.5 4094.5\n",
            "- tenure                                  1   4131.0 4173.0\n",
            "\n",
            "Step:  AIC=4029.04\n",
            "Churn ~ tenure + MonthlyCharges + SeniorCitizen + Dependents + \n",
            "    PhoneService + MultipleLines + InternetService.xFiber.optic + \n",
            "    InternetService.xNo + OnlineSecurity + DeviceProtection + \n",
            "    StreamingTV + StreamingMovies + Contract.xOne.year + Contract.xTwo.year + \n",
            "    PaperlessBilling + PaymentMethod.xElectronic.check + tenure_bin.x2.3.years + \n",
            "    tenure_bin.x3.4.years + tenure_bin.x4.5.years + tenure_bin.x5.6.years\n",
            "\n",
            "                                         Df Deviance    AIC\n",
            "- PhoneService                            1   3988.5 4028.5\n",
            "- Dependents                              1   3988.6 4028.6\n",
            "<none>                                        3987.0 4029.0\n",
            "+ OnlineBackup                            1   3985.8 4029.8\n",
            "+ TotalCharges                            1   3985.8 4029.8\n",
            "- DeviceProtection                        1   3990.0 4030.0\n",
            "+ TechSupport                             1   3986.1 4030.1\n",
            "+ tenure_bin.x1.2.years                   1   3986.6 4030.6\n",
            "- OnlineSecurity                          1   3990.7 4030.7\n",
            "+ Partner                                 1   3986.7 4030.7\n",
            "+ PaymentMethod.xMailed.check             1   3986.9 4030.9\n",
            "+ PaymentMethod.xCredit.card..automatic.  1   3987.0 4031.0\n",
            "+ gender                                  1   3987.0 4031.0\n",
            "- MonthlyCharges                          1   3995.3 4035.3\n",
            "- PaymentMethod.xElectronic.check         1   3998.8 4038.8\n",
            "- SeniorCitizen                           1   3999.4 4039.4\n",
            "- StreamingMovies                         1   4001.0 4041.0\n",
            "- StreamingTV                             1   4002.6 4042.6\n",
            "- tenure_bin.x2.3.years                   1   4003.7 4043.7\n",
            "- MultipleLines                           1   4004.6 4044.6\n",
            "- PaperlessBilling                        1   4005.4 4045.4\n",
            "- InternetService.xNo                     1   4011.2 4051.2\n",
            "- InternetService.xFiber.optic            1   4016.3 4056.3\n",
            "- Contract.xOne.year                      1   4018.2 4058.2\n",
            "- tenure_bin.x3.4.years                   1   4029.0 4069.0\n",
            "- tenure_bin.x4.5.years                   1   4042.5 4082.5\n",
            "- tenure_bin.x5.6.years                   1   4048.1 4088.1\n",
            "- Contract.xTwo.year                      1   4056.9 4096.9\n",
            "- tenure                                  1   4131.3 4171.3\n",
            "\n",
            "Step:  AIC=4028.46\n",
            "Churn ~ tenure + MonthlyCharges + SeniorCitizen + Dependents + \n",
            "    MultipleLines + InternetService.xFiber.optic + InternetService.xNo + \n",
            "    OnlineSecurity + DeviceProtection + StreamingTV + StreamingMovies + \n",
            "    Contract.xOne.year + Contract.xTwo.year + PaperlessBilling + \n",
            "    PaymentMethod.xElectronic.check + tenure_bin.x2.3.years + \n",
            "    tenure_bin.x3.4.years + tenure_bin.x4.5.years + tenure_bin.x5.6.years\n",
            "\n",
            "                                         Df Deviance    AIC\n",
            "- Dependents                              1   3990.0 4028.0\n",
            "- DeviceProtection                        1   3990.1 4028.1\n",
            "+ TechSupport                             1   3986.3 4028.3\n",
            "<none>                                        3988.5 4028.5\n",
            "+ PhoneService                            1   3987.0 4029.0\n",
            "+ TotalCharges                            1   3987.4 4029.4\n",
            "+ tenure_bin.x1.2.years                   1   3988.0 4030.0\n",
            "+ Partner                                 1   3988.1 4030.1\n",
            "+ PaymentMethod.xMailed.check             1   3988.3 4030.3\n",
            "+ PaymentMethod.xCredit.card..automatic.  1   3988.4 4030.4\n",
            "+ OnlineBackup                            1   3988.5 4030.5\n",
            "+ gender                                  1   3988.5 4030.5\n",
            "- OnlineSecurity                          1   3996.2 4034.2\n",
            "- PaymentMethod.xElectronic.check         1   4000.2 4038.2\n",
            "- SeniorCitizen                           1   4001.0 4039.0\n",
            "- MonthlyCharges                          1   4001.6 4039.6\n",
            "- MultipleLines                           1   4004.9 4042.9\n",
            "- StreamingMovies                         1   4005.0 4043.0\n",
            "- tenure_bin.x2.3.years                   1   4005.1 4043.1\n",
            "- PaperlessBilling                        1   4006.5 4044.5\n",
            "- StreamingTV                             1   4007.3 4045.3\n",
            "- Contract.xOne.year                      1   4020.3 4058.3\n",
            "- tenure_bin.x3.4.years                   1   4030.6 4068.6\n",
            "- InternetService.xFiber.optic            1   4033.8 4071.8\n",
            "- InternetService.xNo                     1   4041.7 4079.7\n",
            "- tenure_bin.x4.5.years                   1   4044.1 4082.1\n",
            "- tenure_bin.x5.6.years                   1   4049.7 4087.7\n",
            "- Contract.xTwo.year                      1   4060.4 4098.4\n",
            "- tenure                                  1   4137.1 4175.1\n",
            "\n",
            "Step:  AIC=4028.03\n",
            "Churn ~ tenure + MonthlyCharges + SeniorCitizen + MultipleLines + \n",
            "    InternetService.xFiber.optic + InternetService.xNo + OnlineSecurity + \n",
            "    DeviceProtection + StreamingTV + StreamingMovies + Contract.xOne.year + \n",
            "    Contract.xTwo.year + PaperlessBilling + PaymentMethod.xElectronic.check + \n",
            "    tenure_bin.x2.3.years + tenure_bin.x3.4.years + tenure_bin.x4.5.years + \n",
            "    tenure_bin.x5.6.years\n",
            "\n",
            "                                         Df Deviance    AIC\n",
            "- DeviceProtection                        1   3991.7 4027.7\n",
            "+ TechSupport                             1   3987.8 4027.8\n",
            "<none>                                        3990.0 4028.0\n",
            "+ Dependents                              1   3988.5 4028.5\n",
            "+ PhoneService                            1   3988.6 4028.6\n",
            "+ TotalCharges                            1   3988.9 4028.9\n",
            "+ tenure_bin.x1.2.years                   1   3989.6 4029.6\n",
            "+ PaymentMethod.xMailed.check             1   3989.9 4029.9\n",
            "+ PaymentMethod.xCredit.card..automatic.  1   3990.0 4030.0\n",
            "+ gender                                  1   3990.0 4030.0\n",
            "+ OnlineBackup                            1   3990.0 4030.0\n",
            "+ Partner                                 1   3990.0 4030.0\n",
            "- OnlineSecurity                          1   3997.8 4033.8\n",
            "- PaymentMethod.xElectronic.check         1   4002.1 4038.1\n",
            "- MonthlyCharges                          1   4003.4 4039.4\n",
            "- SeniorCitizen                           1   4004.4 4040.4\n",
            "- MultipleLines                           1   4006.8 4042.8\n",
            "- tenure_bin.x2.3.years                   1   4006.8 4042.8\n",
            "- StreamingMovies                         1   4006.9 4042.9\n",
            "- PaperlessBilling                        1   4008.4 4044.4\n",
            "- StreamingTV                             1   4008.9 4044.9\n",
            "- Contract.xOne.year                      1   4022.6 4058.6\n",
            "- tenure_bin.x3.4.years                   1   4032.5 4068.5\n",
            "- InternetService.xFiber.optic            1   4036.2 4072.2\n",
            "- InternetService.xNo                     1   4043.8 4079.8\n",
            "- tenure_bin.x4.5.years                   1   4046.4 4082.4\n",
            "- tenure_bin.x5.6.years                   1   4052.0 4088.0\n",
            "- Contract.xTwo.year                      1   4063.5 4099.5\n",
            "- tenure                                  1   4141.0 4177.0\n",
            "\n",
            "Step:  AIC=4027.71\n",
            "Churn ~ tenure + MonthlyCharges + SeniorCitizen + MultipleLines + \n",
            "    InternetService.xFiber.optic + InternetService.xNo + OnlineSecurity + \n",
            "    StreamingTV + StreamingMovies + Contract.xOne.year + Contract.xTwo.year + \n",
            "    PaperlessBilling + PaymentMethod.xElectronic.check + tenure_bin.x2.3.years + \n",
            "    tenure_bin.x3.4.years + tenure_bin.x4.5.years + tenure_bin.x5.6.years\n",
            "\n",
            "                                         Df Deviance    AIC\n",
            "+ TechSupport                             1   3989.3 4027.3\n",
            "<none>                                        3991.7 4027.7\n",
            "+ DeviceProtection                        1   3990.0 4028.0\n",
            "+ Dependents                              1   3990.1 4028.1\n",
            "+ TotalCharges                            1   3990.5 4028.5\n",
            "+ tenure_bin.x1.2.years                   1   3991.3 4029.3\n",
            "+ PaymentMethod.xMailed.check             1   3991.6 4029.6\n",
            "+ PhoneService                            1   3991.6 4029.6\n",
            "+ PaymentMethod.xCredit.card..automatic.  1   3991.7 4029.7\n",
            "+ OnlineBackup                            1   3991.7 4029.7\n",
            "+ gender                                  1   3991.7 4029.7\n",
            "+ Partner                                 1   3991.7 4029.7\n",
            "- OnlineSecurity                          1   4000.6 4034.6\n",
            "- MonthlyCharges                          1   4003.4 4037.4\n",
            "- PaymentMethod.xElectronic.check         1   4003.8 4037.8\n",
            "- SeniorCitizen                           1   4006.2 4040.2\n",
            "- MultipleLines                           1   4007.2 4041.2\n",
            "- StreamingMovies                         1   4007.7 4041.7\n",
            "- tenure_bin.x2.3.years                   1   4008.1 4042.1\n",
            "- StreamingTV                             1   4009.6 4043.6\n",
            "- PaperlessBilling                        1   4009.8 4043.8\n",
            "- Contract.xOne.year                      1   4023.5 4057.5\n",
            "- tenure_bin.x3.4.years                   1   4034.1 4068.1\n",
            "- InternetService.xFiber.optic            1   4036.8 4070.8\n",
            "- InternetService.xNo                     1   4043.9 4077.9\n",
            "- tenure_bin.x4.5.years                   1   4047.4 4081.4\n",
            "- tenure_bin.x5.6.years                   1   4053.1 4087.1\n",
            "- Contract.xTwo.year                      1   4064.2 4098.2\n",
            "- tenure                                  1   4141.1 4175.1\n",
            "\n",
            "Step:  AIC=4027.28\n",
            "Churn ~ tenure + MonthlyCharges + SeniorCitizen + MultipleLines + \n",
            "    InternetService.xFiber.optic + InternetService.xNo + OnlineSecurity + \n",
            "    StreamingTV + StreamingMovies + Contract.xOne.year + Contract.xTwo.year + \n",
            "    PaperlessBilling + PaymentMethod.xElectronic.check + tenure_bin.x2.3.years + \n",
            "    tenure_bin.x3.4.years + tenure_bin.x4.5.years + tenure_bin.x5.6.years + \n",
            "    TechSupport\n",
            "\n",
            "                                         Df Deviance    AIC\n",
            "<none>                                        3989.3 4027.3\n",
            "- TechSupport                             1   3991.7 4027.7\n",
            "+ Dependents                              1   3987.7 4027.7\n",
            "+ DeviceProtection                        1   3987.8 4027.8\n",
            "+ TotalCharges                            1   3987.9 4027.9\n",
            "+ tenure_bin.x1.2.years                   1   3988.9 4028.9\n",
            "+ PhoneService                            1   3989.1 4029.1\n",
            "+ PaymentMethod.xMailed.check             1   3989.2 4029.2\n",
            "+ OnlineBackup                            1   3989.2 4029.2\n",
            "+ PaymentMethod.xCredit.card..automatic.  1   3989.3 4029.3\n",
            "+ gender                                  1   3989.3 4029.3\n",
            "+ Partner                                 1   3989.3 4029.3\n",
            "- MonthlyCharges                          1   3996.2 4032.2\n",
            "- OnlineSecurity                          1   3998.8 4034.8\n",
            "- PaymentMethod.xElectronic.check         1   4000.9 4036.9\n",
            "- MultipleLines                           1   4002.2 4038.2\n",
            "- StreamingMovies                         1   4002.8 4038.8\n",
            "- SeniorCitizen                           1   4002.9 4038.9\n",
            "- StreamingTV                             1   4004.6 4040.6\n",
            "- tenure_bin.x2.3.years                   1   4005.8 4041.8\n",
            "- PaperlessBilling                        1   4007.6 4043.6\n",
            "- Contract.xOne.year                      1   4019.1 4055.1\n",
            "- InternetService.xFiber.optic            1   4021.1 4057.1\n",
            "- tenure_bin.x3.4.years                   1   4031.5 4067.5\n",
            "- InternetService.xNo                     1   4038.0 4074.0\n",
            "- tenure_bin.x4.5.years                   1   4044.7 4080.7\n",
            "- tenure_bin.x5.6.years                   1   4050.1 4086.1\n",
            "- Contract.xTwo.year                      1   4055.8 4091.8\n",
            "- tenure                                  1   4137.1 4173.1\n"
          ],
          "name": "stdout"
        }
      ]
    },
    {
      "cell_type": "code",
      "metadata": {
        "_uuid": "eea55841e5b6b36bfa7944b30639229a7f6713ba",
        "trusted": true,
        "colab": {
          "base_uri": "https://localhost:8080/",
          "height": 782
        },
        "id": "dH-9-D3CGdVg",
        "outputId": "6ceafd10-afc2-43a2-86cf-decb485232c6"
      },
      "source": [
        "summary(model_2)"
      ],
      "execution_count": null,
      "outputs": [
        {
          "output_type": "display_data",
          "data": {
            "text/plain": [
              "\n",
              "Call:\n",
              "glm(formula = Churn ~ tenure + MonthlyCharges + SeniorCitizen + \n",
              "    MultipleLines + InternetService.xFiber.optic + InternetService.xNo + \n",
              "    OnlineSecurity + StreamingTV + StreamingMovies + Contract.xOne.year + \n",
              "    Contract.xTwo.year + PaperlessBilling + PaymentMethod.xElectronic.check + \n",
              "    tenure_bin.x2.3.years + tenure_bin.x3.4.years + tenure_bin.x4.5.years + \n",
              "    tenure_bin.x5.6.years + TechSupport, family = \"binomial\", \n",
              "    data = train)\n",
              "\n",
              "Deviance Residuals: \n",
              "    Min       1Q   Median       3Q      Max  \n",
              "-2.1461  -0.6661  -0.2733   0.6249   3.3018  \n",
              "\n",
              "Coefficients:\n",
              "                                Estimate Std. Error z value Pr(>|z|)    \n",
              "(Intercept)                     -3.37123    0.27189 -12.399  < 2e-16 ***\n",
              "tenure                          -2.07853    0.17751 -11.709  < 2e-16 ***\n",
              "MonthlyCharges                  -0.52335    0.19800  -2.643 0.008213 ** \n",
              "SeniorCitizen                    0.37111    0.10031   3.700 0.000216 ***\n",
              "MultipleLines                    0.38516    0.10755   3.581 0.000342 ***\n",
              "InternetService.xFiber.optic     1.28144    0.22881   5.601 2.14e-08 ***\n",
              "InternetService.xNo             -1.45816    0.20985  -6.949 3.69e-12 ***\n",
              "OnlineSecurity                  -0.33178    0.10796  -3.073 0.002118 ** \n",
              "StreamingTV                      0.46276    0.11865   3.900 9.61e-05 ***\n",
              "StreamingMovies                  0.42482    0.11585   3.667 0.000246 ***\n",
              "Contract.xOne.year              -0.69055    0.12950  -5.333 9.68e-08 ***\n",
              "Contract.xTwo.year              -1.68164    0.23166  -7.259 3.89e-13 ***\n",
              "PaperlessBilling                 0.38535    0.09046   4.260 2.05e-05 ***\n",
              "PaymentMethod.xElectronic.check  0.28932    0.08445   3.426 0.000613 ***\n",
              "tenure_bin.x2.3.years            0.78164    0.19291   4.052 5.08e-05 ***\n",
              "tenure_bin.x3.4.years            1.72393    0.26800   6.432 1.26e-10 ***\n",
              "tenure_bin.x4.5.years            2.52442    0.34433   7.331 2.28e-13 ***\n",
              "tenure_bin.x5.6.years            3.30141    0.43049   7.669 1.73e-14 ***\n",
              "TechSupport                     -0.17022    0.10928  -1.558 0.119308    \n",
              "---\n",
              "Signif. codes:  0 ‘***’ 0.001 ‘**’ 0.01 ‘*’ 0.05 ‘.’ 0.1 ‘ ’ 1\n",
              "\n",
              "(Dispersion parameter for binomial family taken to be 1)\n",
              "\n",
              "    Null deviance: 5699.5  on 4921  degrees of freedom\n",
              "Residual deviance: 3989.3  on 4903  degrees of freedom\n",
              "AIC: 4027.3\n",
              "\n",
              "Number of Fisher Scoring iterations: 6\n"
            ]
          },
          "metadata": {
            "tags": []
          }
        }
      ]
    },
    {
      "cell_type": "markdown",
      "metadata": {
        "_uuid": "1df3b65d0e7a7e53923f8e37fac549e3703884b9",
        "id": "-4fZolmaGdVg"
      },
      "source": [
        "We can use variance inflation factor (vif) to get rid of redundant predictors or the variables that have high multicollinearity between them. "
      ]
    },
    {
      "cell_type": "code",
      "metadata": {
        "_uuid": "060ac4e728e43ac135b0321251cf7ec628a23489",
        "trusted": true,
        "colab": {
          "base_uri": "https://localhost:8080/",
          "height": 119
        },
        "id": "fBwaigGuGdVg",
        "outputId": "05498a02-6a51-46f0-f32b-e971a68dc48b"
      },
      "source": [
        "vif(model_2)"
      ],
      "execution_count": null,
      "outputs": [
        {
          "output_type": "display_data",
          "data": {
            "text/plain": [
              "                         tenure                  MonthlyCharges \n",
              "                      15.076710                       20.162188 \n",
              "                  SeniorCitizen                   MultipleLines \n",
              "                       1.100707                        1.838876 \n",
              "   InternetService.xFiber.optic             InternetService.xNo \n",
              "                       8.225529                        2.489968 \n",
              "                 OnlineSecurity                     StreamingTV \n",
              "                       1.246308                        2.206225 \n",
              "                StreamingMovies              Contract.xOne.year \n",
              "                       2.122071                        1.386381 \n",
              "             Contract.xTwo.year                PaperlessBilling \n",
              "                       1.371229                        1.125064 \n",
              "PaymentMethod.xElectronic.check           tenure_bin.x2.3.years \n",
              "                       1.149683                        2.656673 \n",
              "          tenure_bin.x3.4.years           tenure_bin.x4.5.years \n",
              "                       4.106103                        6.527227 \n",
              "          tenure_bin.x5.6.years                     TechSupport \n",
              "                       8.568998                        1.332821 "
            ],
            "text/latex": "\\begin{description*}\n\\item[tenure] 15.07671029461\n\\item[MonthlyCharges] 20.1621882698891\n\\item[SeniorCitizen] 1.10070744863858\n\\item[MultipleLines] 1.83887556795881\n\\item[InternetService.xFiber.optic] 8.22552918647024\n\\item[InternetService.xNo] 2.489968006446\n\\item[OnlineSecurity] 1.24630791513787\n\\item[StreamingTV] 2.20622461352086\n\\item[StreamingMovies] 2.12207118265618\n\\item[Contract.xOne.year] 1.38638083286271\n\\item[Contract.xTwo.year] 1.37122873960975\n\\item[PaperlessBilling] 1.12506409368869\n\\item[PaymentMethod.xElectronic.check] 1.14968282953147\n\\item[tenure\\textbackslash{}\\_bin.x2.3.years] 2.65667324624495\n\\item[tenure\\textbackslash{}\\_bin.x3.4.years] 4.10610307782179\n\\item[tenure\\textbackslash{}\\_bin.x4.5.years] 6.52722677606275\n\\item[tenure\\textbackslash{}\\_bin.x5.6.years] 8.56899810094571\n\\item[TechSupport] 1.33282075545288\n\\end{description*}\n",
            "text/markdown": "tenure\n:   15.07671029461MonthlyCharges\n:   20.1621882698891SeniorCitizen\n:   1.10070744863858MultipleLines\n:   1.83887556795881InternetService.xFiber.optic\n:   8.22552918647024InternetService.xNo\n:   2.489968006446OnlineSecurity\n:   1.24630791513787StreamingTV\n:   2.20622461352086StreamingMovies\n:   2.12207118265618Contract.xOne.year\n:   1.38638083286271Contract.xTwo.year\n:   1.37122873960975PaperlessBilling\n:   1.12506409368869PaymentMethod.xElectronic.check\n:   1.14968282953147tenure_bin.x2.3.years\n:   2.65667324624495tenure_bin.x3.4.years\n:   4.10610307782179tenure_bin.x4.5.years\n:   6.52722677606275tenure_bin.x5.6.years\n:   8.56899810094571TechSupport\n:   1.33282075545288\n\n",
            "text/html": [
              "<style>\n",
              ".dl-inline {width: auto; margin:0; padding: 0}\n",
              ".dl-inline>dt, .dl-inline>dd {float: none; width: auto; display: inline-block}\n",
              ".dl-inline>dt::after {content: \":\\0020\"; padding-right: .5ex}\n",
              ".dl-inline>dt:not(:first-of-type) {padding-left: .5ex}\n",
              "</style><dl class=dl-inline><dt>tenure</dt><dd>15.07671029461</dd><dt>MonthlyCharges</dt><dd>20.1621882698891</dd><dt>SeniorCitizen</dt><dd>1.10070744863858</dd><dt>MultipleLines</dt><dd>1.83887556795881</dd><dt>InternetService.xFiber.optic</dt><dd>8.22552918647024</dd><dt>InternetService.xNo</dt><dd>2.489968006446</dd><dt>OnlineSecurity</dt><dd>1.24630791513787</dd><dt>StreamingTV</dt><dd>2.20622461352086</dd><dt>StreamingMovies</dt><dd>2.12207118265618</dd><dt>Contract.xOne.year</dt><dd>1.38638083286271</dd><dt>Contract.xTwo.year</dt><dd>1.37122873960975</dd><dt>PaperlessBilling</dt><dd>1.12506409368869</dd><dt>PaymentMethod.xElectronic.check</dt><dd>1.14968282953147</dd><dt>tenure_bin.x2.3.years</dt><dd>2.65667324624495</dd><dt>tenure_bin.x3.4.years</dt><dd>4.10610307782179</dd><dt>tenure_bin.x4.5.years</dt><dd>6.52722677606275</dd><dt>tenure_bin.x5.6.years</dt><dd>8.56899810094571</dd><dt>TechSupport</dt><dd>1.33282075545288</dd></dl>\n"
            ]
          },
          "metadata": {
            "tags": []
          }
        }
      ]
    },
    {
      "cell_type": "code",
      "metadata": {
        "_uuid": "a10abee9d969ce41660c16f1c0c199e7a1dfbeec",
        "trusted": true,
        "colab": {
          "base_uri": "https://localhost:8080/",
          "height": 816
        },
        "id": "g1Okpmk8GdVh",
        "outputId": "61298428-76f4-44be-c3e5-d1b7234522b8"
      },
      "source": [
        "#Removing DeviceProtection due to high p-value \n",
        "model_3 <-glm(formula = Churn ~ tenure + MonthlyCharges + SeniorCitizen + \n",
        "    Partner + InternetService.xFiber.optic + InternetService.xNo + \n",
        "    OnlineSecurity + OnlineBackup + TechSupport + \n",
        "    StreamingTV + Contract.xOne.year + Contract.xTwo.year + PaperlessBilling + \n",
        "    PaymentMethod.xElectronic.check + tenure_bin.x1.2.years + \n",
        "    tenure_bin.x5.6.years, family = \"binomial\", data = train)\n",
        "summary(model_3)\n",
        "vif(model_3)"
      ],
      "execution_count": null,
      "outputs": [
        {
          "output_type": "display_data",
          "data": {
            "text/plain": [
              "\n",
              "Call:\n",
              "glm(formula = Churn ~ tenure + MonthlyCharges + SeniorCitizen + \n",
              "    Partner + InternetService.xFiber.optic + InternetService.xNo + \n",
              "    OnlineSecurity + OnlineBackup + TechSupport + StreamingTV + \n",
              "    Contract.xOne.year + Contract.xTwo.year + PaperlessBilling + \n",
              "    PaymentMethod.xElectronic.check + tenure_bin.x1.2.years + \n",
              "    tenure_bin.x5.6.years, family = \"binomial\", data = train)\n",
              "\n",
              "Deviance Residuals: \n",
              "    Min       1Q   Median       3Q      Max  \n",
              "-1.9863  -0.6589  -0.2775   0.6424   3.2758  \n",
              "\n",
              "Coefficients:\n",
              "                                Estimate Std. Error z value Pr(>|z|)    \n",
              "(Intercept)                     -1.48117    0.17354  -8.535  < 2e-16 ***\n",
              "tenure                          -0.88438    0.07316 -12.088  < 2e-16 ***\n",
              "MonthlyCharges                   0.08404    0.15461   0.544 0.586731    \n",
              "SeniorCitizen                    0.37893    0.09935   3.814 0.000137 ***\n",
              "Partner                         -0.02734    0.08496  -0.322 0.747590    \n",
              "InternetService.xFiber.optic     0.73441    0.20004   3.671 0.000241 ***\n",
              "InternetService.xNo             -1.07362    0.19318  -5.558 2.73e-08 ***\n",
              "OnlineSecurity                  -0.46885    0.10462  -4.481 7.42e-06 ***\n",
              "OnlineBackup                    -0.12936    0.09465  -1.367 0.171691    \n",
              "TechSupport                     -0.29675    0.10623  -2.793 0.005216 ** \n",
              "StreamingTV                      0.32029    0.11573   2.768 0.005647 ** \n",
              "Contract.xOne.year              -0.69301    0.12783  -5.421 5.92e-08 ***\n",
              "Contract.xTwo.year              -1.72148    0.23296  -7.390 1.47e-13 ***\n",
              "PaperlessBilling                 0.40142    0.08954   4.483 7.36e-06 ***\n",
              "PaymentMethod.xElectronic.check  0.32498    0.08352   3.891 9.99e-05 ***\n",
              "tenure_bin.x1.2.years           -0.52142    0.10707  -4.870 1.12e-06 ***\n",
              "tenure_bin.x5.6.years            0.54321    0.19325   2.811 0.004940 ** \n",
              "---\n",
              "Signif. codes:  0 ‘***’ 0.001 ‘**’ 0.01 ‘*’ 0.05 ‘.’ 0.1 ‘ ’ 1\n",
              "\n",
              "(Dispersion parameter for binomial family taken to be 1)\n",
              "\n",
              "    Null deviance: 5699.5  on 4921  degrees of freedom\n",
              "Residual deviance: 4042.5  on 4905  degrees of freedom\n",
              "AIC: 4076.5\n",
              "\n",
              "Number of Fisher Scoring iterations: 6\n"
            ]
          },
          "metadata": {
            "tags": []
          }
        },
        {
          "output_type": "display_data",
          "data": {
            "text/plain": [
              "                         tenure                  MonthlyCharges \n",
              "                       2.540970                       12.310900 \n",
              "                  SeniorCitizen                         Partner \n",
              "                       1.092995                        1.133093 \n",
              "   InternetService.xFiber.optic             InternetService.xNo \n",
              "                       6.398204                        2.142763 \n",
              "                 OnlineSecurity                    OnlineBackup \n",
              "                       1.180975                        1.288093 \n",
              "                    TechSupport                     StreamingTV \n",
              "                       1.271133                        2.122655 \n",
              "             Contract.xOne.year              Contract.xTwo.year \n",
              "                       1.360444                        1.392469 \n",
              "               PaperlessBilling PaymentMethod.xElectronic.check \n",
              "                       1.120396                        1.141949 \n",
              "          tenure_bin.x1.2.years           tenure_bin.x5.6.years \n",
              "                       1.028052                        1.757701 "
            ],
            "text/latex": "\\begin{description*}\n\\item[tenure] 2.5409703889079\n\\item[MonthlyCharges] 12.3108995799519\n\\item[SeniorCitizen] 1.09299477005107\n\\item[Partner] 1.13309335403542\n\\item[InternetService.xFiber.optic] 6.39820372512945\n\\item[InternetService.xNo] 2.14276343860477\n\\item[OnlineSecurity] 1.18097466888506\n\\item[OnlineBackup] 1.28809315996587\n\\item[TechSupport] 1.27113296387086\n\\item[StreamingTV] 2.12265527857375\n\\item[Contract.xOne.year] 1.3604438207597\n\\item[Contract.xTwo.year] 1.39246905526068\n\\item[PaperlessBilling] 1.12039550298753\n\\item[PaymentMethod.xElectronic.check] 1.14194948193156\n\\item[tenure\\textbackslash{}\\_bin.x1.2.years] 1.02805197836308\n\\item[tenure\\textbackslash{}\\_bin.x5.6.years] 1.75770116797821\n\\end{description*}\n",
            "text/markdown": "tenure\n:   2.5409703889079MonthlyCharges\n:   12.3108995799519SeniorCitizen\n:   1.09299477005107Partner\n:   1.13309335403542InternetService.xFiber.optic\n:   6.39820372512945InternetService.xNo\n:   2.14276343860477OnlineSecurity\n:   1.18097466888506OnlineBackup\n:   1.28809315996587TechSupport\n:   1.27113296387086StreamingTV\n:   2.12265527857375Contract.xOne.year\n:   1.3604438207597Contract.xTwo.year\n:   1.39246905526068PaperlessBilling\n:   1.12039550298753PaymentMethod.xElectronic.check\n:   1.14194948193156tenure_bin.x1.2.years\n:   1.02805197836308tenure_bin.x5.6.years\n:   1.75770116797821\n\n",
            "text/html": [
              "<style>\n",
              ".dl-inline {width: auto; margin:0; padding: 0}\n",
              ".dl-inline>dt, .dl-inline>dd {float: none; width: auto; display: inline-block}\n",
              ".dl-inline>dt::after {content: \":\\0020\"; padding-right: .5ex}\n",
              ".dl-inline>dt:not(:first-of-type) {padding-left: .5ex}\n",
              "</style><dl class=dl-inline><dt>tenure</dt><dd>2.5409703889079</dd><dt>MonthlyCharges</dt><dd>12.3108995799519</dd><dt>SeniorCitizen</dt><dd>1.09299477005107</dd><dt>Partner</dt><dd>1.13309335403542</dd><dt>InternetService.xFiber.optic</dt><dd>6.39820372512945</dd><dt>InternetService.xNo</dt><dd>2.14276343860477</dd><dt>OnlineSecurity</dt><dd>1.18097466888506</dd><dt>OnlineBackup</dt><dd>1.28809315996587</dd><dt>TechSupport</dt><dd>1.27113296387086</dd><dt>StreamingTV</dt><dd>2.12265527857375</dd><dt>Contract.xOne.year</dt><dd>1.3604438207597</dd><dt>Contract.xTwo.year</dt><dd>1.39246905526068</dd><dt>PaperlessBilling</dt><dd>1.12039550298753</dd><dt>PaymentMethod.xElectronic.check</dt><dd>1.14194948193156</dd><dt>tenure_bin.x1.2.years</dt><dd>1.02805197836308</dd><dt>tenure_bin.x5.6.years</dt><dd>1.75770116797821</dd></dl>\n"
            ]
          },
          "metadata": {
            "tags": []
          }
        }
      ]
    },
    {
      "cell_type": "code",
      "metadata": {
        "_uuid": "f262af24933446f7505b7985d5beae548c29c5aa",
        "trusted": true,
        "colab": {
          "base_uri": "https://localhost:8080/",
          "height": 799
        },
        "id": "QGlNa_xXGdVh",
        "outputId": "016c1879-3bef-4076-88ab-547b14ab67b5"
      },
      "source": [
        "#Removing StreamingTV  as it has high p-value \n",
        "\n",
        "model_4 <- glm(formula = Churn ~ tenure + MonthlyCharges + SeniorCitizen + \n",
        "    Partner + InternetService.xFiber.optic + InternetService.xNo + \n",
        "    OnlineSecurity + OnlineBackup + TechSupport +  \n",
        "    Contract.xOne.year + Contract.xTwo.year + PaperlessBilling + \n",
        "    PaymentMethod.xElectronic.check + tenure_bin.x1.2.years + \n",
        "    tenure_bin.x5.6.years, family = \"binomial\", data = train)\n",
        "\n",
        "summary(model_4)\n",
        "vif(model_4)"
      ],
      "execution_count": null,
      "outputs": [
        {
          "output_type": "display_data",
          "data": {
            "text/plain": [
              "\n",
              "Call:\n",
              "glm(formula = Churn ~ tenure + MonthlyCharges + SeniorCitizen + \n",
              "    Partner + InternetService.xFiber.optic + InternetService.xNo + \n",
              "    OnlineSecurity + OnlineBackup + TechSupport + Contract.xOne.year + \n",
              "    Contract.xTwo.year + PaperlessBilling + PaymentMethod.xElectronic.check + \n",
              "    tenure_bin.x1.2.years + tenure_bin.x5.6.years, family = \"binomial\", \n",
              "    data = train)\n",
              "\n",
              "Deviance Residuals: \n",
              "    Min       1Q   Median       3Q      Max  \n",
              "-1.9552  -0.6643  -0.2791   0.6644   3.2717  \n",
              "\n",
              "Coefficients:\n",
              "                                Estimate Std. Error z value Pr(>|z|)    \n",
              "(Intercept)                     -1.24627    0.15025  -8.295  < 2e-16 ***\n",
              "tenure                          -0.87338    0.07296 -11.970  < 2e-16 ***\n",
              "MonthlyCharges                   0.35114    0.12173   2.885 0.003918 ** \n",
              "SeniorCitizen                    0.37827    0.09923   3.812 0.000138 ***\n",
              "Partner                         -0.02668    0.08487  -0.314 0.753275    \n",
              "InternetService.xFiber.optic     0.45825    0.17270   2.653 0.007967 ** \n",
              "InternetService.xNo             -0.91779    0.18585  -4.938 7.88e-07 ***\n",
              "OnlineSecurity                  -0.52247    0.10282  -5.081 3.75e-07 ***\n",
              "OnlineBackup                    -0.16988    0.09346  -1.818 0.069109 .  \n",
              "TechSupport                     -0.33438    0.10525  -3.177 0.001488 ** \n",
              "Contract.xOne.year              -0.67704    0.12751  -5.310 1.10e-07 ***\n",
              "Contract.xTwo.year              -1.70720    0.23269  -7.337 2.19e-13 ***\n",
              "PaperlessBilling                 0.41657    0.08924   4.668 3.04e-06 ***\n",
              "PaymentMethod.xElectronic.check  0.34692    0.08304   4.178 2.95e-05 ***\n",
              "tenure_bin.x1.2.years           -0.52044    0.10684  -4.871 1.11e-06 ***\n",
              "tenure_bin.x5.6.years            0.52669    0.19290   2.730 0.006326 ** \n",
              "---\n",
              "Signif. codes:  0 ‘***’ 0.001 ‘**’ 0.01 ‘*’ 0.05 ‘.’ 0.1 ‘ ’ 1\n",
              "\n",
              "(Dispersion parameter for binomial family taken to be 1)\n",
              "\n",
              "    Null deviance: 5699.5  on 4921  degrees of freedom\n",
              "Residual deviance: 4050.2  on 4906  degrees of freedom\n",
              "AIC: 4082.2\n",
              "\n",
              "Number of Fisher Scoring iterations: 6\n"
            ]
          },
          "metadata": {
            "tags": []
          }
        },
        {
          "output_type": "display_data",
          "data": {
            "text/plain": [
              "                         tenure                  MonthlyCharges \n",
              "                       2.528728                        7.598828 \n",
              "                  SeniorCitizen                         Partner \n",
              "                       1.092734                        1.133297 \n",
              "   InternetService.xFiber.optic             InternetService.xNo \n",
              "                       4.776780                        1.985836 \n",
              "                 OnlineSecurity                    OnlineBackup \n",
              "                       1.143833                        1.258626 \n",
              "                    TechSupport              Contract.xOne.year \n",
              "                       1.252283                        1.358085 \n",
              "             Contract.xTwo.year                PaperlessBilling \n",
              "                       1.390401                        1.114992 \n",
              "PaymentMethod.xElectronic.check           tenure_bin.x1.2.years \n",
              "                       1.131205                        1.027896 \n",
              "          tenure_bin.x5.6.years \n",
              "                       1.752778 "
            ],
            "text/latex": "\\begin{description*}\n\\item[tenure] 2.52872764313763\n\\item[MonthlyCharges] 7.59882803853817\n\\item[SeniorCitizen] 1.09273440364473\n\\item[Partner] 1.13329707392889\n\\item[InternetService.xFiber.optic] 4.77677968469847\n\\item[InternetService.xNo] 1.98583563560085\n\\item[OnlineSecurity] 1.14383283039775\n\\item[OnlineBackup] 1.25862641579543\n\\item[TechSupport] 1.25228291670709\n\\item[Contract.xOne.year] 1.3580849505482\n\\item[Contract.xTwo.year] 1.39040093594753\n\\item[PaperlessBilling] 1.11499189847796\n\\item[PaymentMethod.xElectronic.check] 1.13120495688509\n\\item[tenure\\textbackslash{}\\_bin.x1.2.years] 1.02789613613905\n\\item[tenure\\textbackslash{}\\_bin.x5.6.years] 1.75277819404988\n\\end{description*}\n",
            "text/markdown": "tenure\n:   2.52872764313763MonthlyCharges\n:   7.59882803853817SeniorCitizen\n:   1.09273440364473Partner\n:   1.13329707392889InternetService.xFiber.optic\n:   4.77677968469847InternetService.xNo\n:   1.98583563560085OnlineSecurity\n:   1.14383283039775OnlineBackup\n:   1.25862641579543TechSupport\n:   1.25228291670709Contract.xOne.year\n:   1.3580849505482Contract.xTwo.year\n:   1.39040093594753PaperlessBilling\n:   1.11499189847796PaymentMethod.xElectronic.check\n:   1.13120495688509tenure_bin.x1.2.years\n:   1.02789613613905tenure_bin.x5.6.years\n:   1.75277819404988\n\n",
            "text/html": [
              "<style>\n",
              ".dl-inline {width: auto; margin:0; padding: 0}\n",
              ".dl-inline>dt, .dl-inline>dd {float: none; width: auto; display: inline-block}\n",
              ".dl-inline>dt::after {content: \":\\0020\"; padding-right: .5ex}\n",
              ".dl-inline>dt:not(:first-of-type) {padding-left: .5ex}\n",
              "</style><dl class=dl-inline><dt>tenure</dt><dd>2.52872764313763</dd><dt>MonthlyCharges</dt><dd>7.59882803853817</dd><dt>SeniorCitizen</dt><dd>1.09273440364473</dd><dt>Partner</dt><dd>1.13329707392889</dd><dt>InternetService.xFiber.optic</dt><dd>4.77677968469847</dd><dt>InternetService.xNo</dt><dd>1.98583563560085</dd><dt>OnlineSecurity</dt><dd>1.14383283039775</dd><dt>OnlineBackup</dt><dd>1.25862641579543</dd><dt>TechSupport</dt><dd>1.25228291670709</dd><dt>Contract.xOne.year</dt><dd>1.3580849505482</dd><dt>Contract.xTwo.year</dt><dd>1.39040093594753</dd><dt>PaperlessBilling</dt><dd>1.11499189847796</dd><dt>PaymentMethod.xElectronic.check</dt><dd>1.13120495688509</dd><dt>tenure_bin.x1.2.years</dt><dd>1.02789613613905</dd><dt>tenure_bin.x5.6.years</dt><dd>1.75277819404988</dd></dl>\n"
            ]
          },
          "metadata": {
            "tags": []
          }
        }
      ]
    },
    {
      "cell_type": "markdown",
      "metadata": {
        "_uuid": "4d84ba3e0c4c4c77933271c0472cb448731bc04f",
        "id": "6mR8a3KiGdVi"
      },
      "source": [
        "Model_3 all has significant variables, so let's just use it for prediction first"
      ]
    },
    {
      "cell_type": "code",
      "metadata": {
        "_uuid": "5825bf001b8943f3e126d2d1dfa41916c55e0277",
        "trusted": true,
        "id": "-CgCl6mhGdVi"
      },
      "source": [
        "final_model <- model_3"
      ],
      "execution_count": null,
      "outputs": []
    },
    {
      "cell_type": "markdown",
      "metadata": {
        "_uuid": "85320d3d43c3e7addd5defd0b559d735c7222687",
        "id": "WJncdEBDGdVi"
      },
      "source": [
        "**Model Evaluation using the validation data:**"
      ]
    },
    {
      "cell_type": "code",
      "metadata": {
        "_uuid": "89250712309cb0a939570de00f744228ab417590",
        "_kg_hide-input": false,
        "trusted": true,
        "colab": {
          "base_uri": "https://localhost:8080/",
          "height": 119
        },
        "id": "Sh8YcYBJGdVi",
        "outputId": "e9f404b8-a3ae-46bb-c6e2-a0fa12b63c06"
      },
      "source": [
        "pred <- predict(final_model, type = \"response\", newdata = validation[,-24])\n",
        "summary(pred)\n",
        "validation$prob <- pred\n",
        "\n",
        "# Using probability cutoff of 50%.\n",
        "\n",
        "pred_churn <- factor(ifelse(pred >= 0.50, \"Yes\", \"No\"))\n",
        "actual_churn <- factor(ifelse(validation$Churn==1,\"Yes\",\"No\"))\n",
        "table(actual_churn,pred_churn)"
      ],
      "execution_count": null,
      "outputs": [
        {
          "output_type": "display_data",
          "data": {
            "text/plain": [
              "    Min.  1st Qu.   Median     Mean  3rd Qu.     Max. \n",
              "0.004518 0.041437 0.186763 0.268617 0.470467 0.868907 "
            ]
          },
          "metadata": {
            "tags": []
          }
        },
        {
          "output_type": "display_data",
          "data": {
            "text/plain": [
              "            pred_churn\n",
              "actual_churn   No  Yes\n",
              "         No  1382  167\n",
              "         Yes  275  286"
            ]
          },
          "metadata": {
            "tags": []
          }
        }
      ]
    },
    {
      "cell_type": "markdown",
      "metadata": {
        "_uuid": "fba4b0225a23ab8fb5ef72fa9727d7d1c0f759db",
        "id": "6KnaURdeGdVi"
      },
      "source": [
        "Let's find the Accuracy, Sensitivity, Specificity using 50% cutoff"
      ]
    },
    {
      "cell_type": "code",
      "metadata": {
        "_kg_hide-input": true,
        "_uuid": "ae760ff0000eb7e51b70bd2e9d114b987c0f0751",
        "trusted": true,
        "colab": {
          "base_uri": "https://localhost:8080/",
          "height": 68
        },
        "id": "IyaaQBPJGdVi",
        "outputId": "628ad328-d262-4bb2-dc18-50a9cd8438c5"
      },
      "source": [
        "cutoff_churn <- factor(ifelse(pred >=0.50, \"Yes\", \"No\"))\n",
        "conf_final <- confusionMatrix(cutoff_churn, actual_churn, positive = \"Yes\")\n",
        "accuracy <- conf_final$overall[1]\n",
        "sensitivity <- conf_final$byClass[1]\n",
        "specificity <- conf_final$byClass[2]\n",
        "accuracy\n",
        "sensitivity\n",
        "specificity"
      ],
      "execution_count": null,
      "outputs": [
        {
          "output_type": "display_data",
          "data": {
            "text/plain": [
              " Accuracy \n",
              "0.7905213 "
            ],
            "text/latex": "\\textbf{Accuracy:} 0.790521327014218",
            "text/markdown": "**Accuracy:** 0.790521327014218",
            "text/html": [
              "<strong>Accuracy:</strong> 0.790521327014218"
            ]
          },
          "metadata": {
            "tags": []
          }
        },
        {
          "output_type": "display_data",
          "data": {
            "text/plain": [
              "Sensitivity \n",
              "  0.5098039 "
            ],
            "text/latex": "\\textbf{Sensitivity:} 0.509803921568627",
            "text/markdown": "**Sensitivity:** 0.509803921568627",
            "text/html": [
              "<strong>Sensitivity:</strong> 0.509803921568627"
            ]
          },
          "metadata": {
            "tags": []
          }
        },
        {
          "output_type": "display_data",
          "data": {
            "text/plain": [
              "Specificity \n",
              "  0.8921885 "
            ],
            "text/latex": "\\textbf{Specificity:} 0.8921885087153",
            "text/markdown": "**Specificity:** 0.8921885087153",
            "text/html": [
              "<strong>Specificity:</strong> 0.8921885087153"
            ]
          },
          "metadata": {
            "tags": []
          }
        }
      ]
    },
    {
      "cell_type": "markdown",
      "metadata": {
        "_uuid": "333fc4f0d5fdf206c06606515072f14da263f99e",
        "id": "0oJPCzmuGdVj"
      },
      "source": [
        "As we can see above, when we are using a cutoff of 0.50, we are getting a good accuracy and specificity, but the sensitivity is very less. Hence, we need to find the optimal probalility cutoff which will give maximum accuracy, sensitivity and specificity"
      ]
    },
    {
      "cell_type": "code",
      "metadata": {
        "_uuid": "b533455e634ae9fce88e958d076381334ca82e09",
        "_kg_hide-input": true,
        "trusted": true,
        "id": "5oAGc5U-GdVj"
      },
      "source": [
        "perform_fn <- function(cutoff) \n",
        "{\n",
        "  predicted_churn <- factor(ifelse(pred >= cutoff, \"Yes\", \"No\"))\n",
        "  conf <- confusionMatrix(predicted_churn, actual_churn, positive = \"Yes\")\n",
        "  accuray <- conf$overall[1]\n",
        "  sensitivity <- conf$byClass[1]\n",
        "  specificity <- conf$byClass[2]\n",
        "  out <- t(as.matrix(c(sensitivity, specificity, accuray))) \n",
        "  colnames(out) <- c(\"sensitivity\", \"specificity\", \"accuracy\")\n",
        "  return(out)\n",
        "}"
      ],
      "execution_count": null,
      "outputs": []
    },
    {
      "cell_type": "code",
      "metadata": {
        "_kg_hide-input": true,
        "_uuid": "627c7a17d1b7f38c4b07ce04600739ce7841d8f9",
        "trusted": true,
        "colab": {
          "base_uri": "https://localhost:8080/",
          "height": 411
        },
        "id": "cGPFtDG1GdVj",
        "outputId": "140e9429-68c0-473f-8544-045c89dfe15f"
      },
      "source": [
        "options(repr.plot.width =8, repr.plot.height =6)\n",
        "summary(pred)\n",
        "s = seq(0.01,0.80,length=100)\n",
        "OUT = matrix(0,100,3)\n",
        "\n",
        "for(i in 1:100)\n",
        "{\n",
        "  OUT[i,] = perform_fn(s[i])\n",
        "} \n",
        "\n",
        "plot(s, OUT[,1],xlab=\"Cutoff\",ylab=\"Value\",cex.lab=1.5,cex.axis=1.5,ylim=c(0,1),\n",
        "     type=\"l\",lwd=2,axes=FALSE,col=2)\n",
        "axis(1,seq(0,1,length=5),seq(0,1,length=5),cex.lab=1.5)\n",
        "axis(2,seq(0,1,length=5),seq(0,1,length=5),cex.lab=1.5)\n",
        "lines(s,OUT[,2],col=\"darkgreen\",lwd=2)\n",
        "lines(s,OUT[,3],col=4,lwd=2)\n",
        "box()\n",
        "legend(\"bottom\",col=c(2,\"darkgreen\",4,\"darkred\"),text.font =3,inset = 0.02,\n",
        "       box.lty=0,cex = 0.8, \n",
        "       lwd=c(2,2,2,2),c(\"Sensitivity\",\"Specificity\",\"Accuracy\"))\n",
        "abline(v = 0.32, col=\"red\", lwd=1, lty=2)\n",
        "axis(1, at = seq(0.1, 1, by = 0.1))\n",
        "\n",
        "#cutoff <- s[which(abs(OUT[,1]-OUT[,2])<0.01)]\n"
      ],
      "execution_count": null,
      "outputs": [
        {
          "output_type": "display_data",
          "data": {
            "text/plain": [
              "    Min.  1st Qu.   Median     Mean  3rd Qu.     Max. \n",
              "0.004518 0.041437 0.186763 0.268617 0.470467 0.868907 "
            ]
          },
          "metadata": {
            "tags": []
          }
        },
        {
          "output_type": "display_data",
          "data": {
            "image/png": "[encoded data removed]",
            "text/plain": [
              "plot without title"
            ]
          },
          "metadata": {
            "tags": [],
            "image/png": {
              "width": 480,
              "height": 360
            }
          }
        }
      ]
    },
    {
      "cell_type": "markdown",
      "metadata": {
        "_uuid": "8459ad6fdfa4b11dbb7a31853c1f5e38b7d3a7c3",
        "id": "9jgLZfHSGdVj"
      },
      "source": [
        "Let's choose a cutoff value of 0.32 for final model, where the three curves for accuracy, specificty and sensitivity meet"
      ]
    },
    {
      "cell_type": "code",
      "metadata": {
        "_uuid": "ed602ceb535d02e09c7d88739b7a556dc3d3457a",
        "trusted": true,
        "colab": {
          "base_uri": "https://localhost:8080/",
          "height": 68
        },
        "id": "L1oIuRNhGdVk",
        "outputId": "6a1d8012-9b59-4360-c6b4-9d86ff8be9d8"
      },
      "source": [
        "cutoff_churn <- factor(ifelse(pred >=0.32, \"Yes\", \"No\"))\n",
        "conf_final <- confusionMatrix(cutoff_churn, actual_churn, positive = \"Yes\")\n",
        "accuracy <- conf_final$overall[1]\n",
        "sensitivity <- conf_final$byClass[1]\n",
        "specificity <- conf_final$byClass[2]\n",
        "accuracy\n",
        "sensitivity\n",
        "specificity\n"
      ],
      "execution_count": null,
      "outputs": [
        {
          "output_type": "display_data",
          "data": {
            "text/plain": [
              " Accuracy \n",
              "0.7582938 "
            ],
            "text/latex": "\\textbf{Accuracy:} 0.758293838862559",
            "text/markdown": "**Accuracy:** 0.758293838862559",
            "text/html": [
              "<strong>Accuracy:</strong> 0.758293838862559"
            ]
          },
          "metadata": {
            "tags": []
          }
        },
        {
          "output_type": "display_data",
          "data": {
            "text/plain": [
              "Sensitivity \n",
              "  0.7308378 "
            ],
            "text/latex": "\\textbf{Sensitivity:} 0.730837789661319",
            "text/markdown": "**Sensitivity:** 0.730837789661319",
            "text/html": [
              "<strong>Sensitivity:</strong> 0.730837789661319"
            ]
          },
          "metadata": {
            "tags": []
          }
        },
        {
          "output_type": "display_data",
          "data": {
            "text/plain": [
              "Specificity \n",
              "  0.7682376 "
            ],
            "text/latex": "\\textbf{Specificity:} 0.768237572627502",
            "text/markdown": "**Specificity:** 0.768237572627502",
            "text/html": [
              "<strong>Specificity:</strong> 0.768237572627502"
            ]
          },
          "metadata": {
            "tags": []
          }
        }
      ]
    },
    {
      "cell_type": "markdown",
      "metadata": {
        "_uuid": "82512650f589823723266d74f9ce696a458d4feb",
        "id": "pVBDvQSqGdVk"
      },
      "source": [
        "Logistic Regression with a cutoff probability value of 0.32 gives us better values of accuracy, sensitivity and specificity in the validation data. "
      ]
    },
    {
      "cell_type": "markdown",
      "metadata": {
        "_uuid": "851c7e02c40ee50cc623a0a565fcc3ce9cbfe281",
        "id": "PJxp6p4gGdVk"
      },
      "source": [
        "**MODEL BUILDING 2**\n",
        "\n",
        "**Decision Tree**"
      ]
    },
    {
      "cell_type": "markdown",
      "metadata": {
        "_uuid": "921ed8c069ca8c47ac4424c188c7ce290231bc30",
        "id": "jeChQSGtGdVk"
      },
      "source": [
        "* **Preparing the Data**"
      ]
    },
    {
      "cell_type": "code",
      "metadata": {
        "_uuid": "0012460be3f2d6bd720463c019fc8dfc40d1088c",
        "trusted": true,
        "id": "MwSGhIb8GdVk"
      },
      "source": [
        "set.seed(123)\n",
        "telco_final$Churn <- as.factor(telco_final$Churn)\n",
        "\n",
        "indices = sample.split(telco_final$Churn, SplitRatio = 0.7)\n",
        "train = telco_final[indices,]\n",
        "validation = telco_final[!(indices),]"
      ],
      "execution_count": null,
      "outputs": []
    },
    {
      "cell_type": "markdown",
      "metadata": {
        "_uuid": "eca348b91fd95a2a7ee9aa196cc4d80d254a7e6f",
        "id": "j9JmaMaaGdVl"
      },
      "source": [
        "* **Training the Decision Tree model using all variables & Predicting in the validation data**"
      ]
    },
    {
      "cell_type": "code",
      "metadata": {
        "colab": {
          "base_uri": "https://localhost:8080/"
        },
        "id": "18QsKlTxfWR1",
        "outputId": "cd907bd8-706b-41b5-df2e-0543bfa5dd7a"
      },
      "source": [
        "install.packages(\"rpart.plot\")"
      ],
      "execution_count": null,
      "outputs": [
        {
          "output_type": "stream",
          "text": [
            "Installing package into ‘/usr/local/lib/R/site-library’\n",
            "(as ‘lib’ is unspecified)\n",
            "\n"
          ],
          "name": "stderr"
        }
      ]
    },
    {
      "cell_type": "code",
      "metadata": {
        "_uuid": "b4751cdce96e195288803b8c79b7173c2a05d3cf",
        "trusted": true,
        "colab": {
          "base_uri": "https://localhost:8080/"
        },
        "id": "5AXsPRgjGdVl",
        "outputId": "8dc7a1a6-bf0f-47ce-c926-e40a7f7ec11b"
      },
      "source": [
        "options(repr.plot.width = 10, repr.plot.height = 8)\n",
        "library(rpart)\n",
        "library(rpart.plot)\n",
        "\n",
        "#Training\n",
        "Dtree = rpart(Churn ~., data = train, method = \"class\")\n",
        "summary(Dtree)\n",
        "\n",
        "#Predicting \n",
        "DTPred <- predict(Dtree,type = \"class\", newdata = validation[,-24])"
      ],
      "execution_count": null,
      "outputs": [
        {
          "output_type": "stream",
          "text": [
            "Call:\n",
            "rpart(formula = Churn ~ ., data = train, method = \"class\")\n",
            "  n= 4922 \n",
            "\n",
            "         CP nsplit rel error    xerror       xstd\n",
            "1 0.1100917      0 1.0000000 1.0000000 0.02369296\n",
            "2 0.0100000      2 0.7798165 0.8012232 0.02195745\n",
            "\n",
            "Variable importance\n",
            "                         tenure                    TotalCharges \n",
            "                             28                              24 \n",
            "   InternetService.xFiber.optic                  MonthlyCharges \n",
            "                             17                              16 \n",
            "PaymentMethod.xElectronic.check                   MultipleLines \n",
            "                              5                               5 \n",
            "                    StreamingTV     PaymentMethod.xMailed.check \n",
            "                              4                               1 \n",
            "                        Partner \n",
            "                              1 \n",
            "\n",
            "Node number 1: 4922 observations,    complexity param=0.1100917\n",
            "  predicted class=0  expected loss=0.2657456  P(node) =1\n",
            "    class counts:  3614  1308\n",
            "   probabilities: 0.734 0.266 \n",
            "  left son=2 (3145 obs) right son=3 (1777 obs)\n",
            "  Primary splits:\n",
            "      tenure                          < -0.6486705 to the right, improve=219.2032, (0 missing)\n",
            "      Contract.xTwo.year              < 0.5        to the right, improve=179.0342, (0 missing)\n",
            "      InternetService.xFiber.optic    < 0.5        to the left,  improve=178.5663, (0 missing)\n",
            "      PaymentMethod.xElectronic.check < 0.5        to the left,  improve=171.0993, (0 missing)\n",
            "      TotalCharges                    < -0.8594054 to the right, improve=109.5538, (0 missing)\n",
            "  Surrogate splits:\n",
            "      TotalCharges                < -0.6788402 to the right, agree=0.894, adj=0.706, (0 split)\n",
            "      PaymentMethod.xMailed.check < 0.5        to the left,  agree=0.653, adj=0.038, (0 split)\n",
            "      Partner                     < 0.5        to the right, agree=0.646, adj=0.019, (0 split)\n",
            "      MonthlyCharges              < -1.523075  to the right, agree=0.640, adj=0.003, (0 split)\n",
            "\n",
            "Node number 2: 3145 observations\n",
            "  predicted class=0  expected loss=0.1535771  P(node) =0.6389679\n",
            "    class counts:  2662   483\n",
            "   probabilities: 0.846 0.154 \n",
            "\n",
            "Node number 3: 1777 observations,    complexity param=0.1100917\n",
            "  predicted class=0  expected loss=0.4642656  P(node) =0.3610321\n",
            "    class counts:   952   825\n",
            "   probabilities: 0.536 0.464 \n",
            "  left son=6 (1021 obs) right son=7 (756 obs)\n",
            "  Primary splits:\n",
            "      InternetService.xFiber.optic    < 0.5        to the left,  improve=134.66020, (0 missing)\n",
            "      MonthlyCharges                  < 0.1188857  to the left,  improve=116.61090, (0 missing)\n",
            "      InternetService.xNo             < 0.5        to the right, improve=103.63730, (0 missing)\n",
            "      PaymentMethod.xElectronic.check < 0.5        to the left,  improve= 66.32561, (0 missing)\n",
            "      PaperlessBilling                < 0.5        to the left,  improve= 58.11701, (0 missing)\n",
            "  Surrogate splits:\n",
            "      MonthlyCharges                  < 0.1188857  to the left,  agree=0.974, adj=0.938, (0 split)\n",
            "      PaymentMethod.xElectronic.check < 0.5        to the left,  agree=0.702, adj=0.300, (0 split)\n",
            "      MultipleLines                   < 0.5        to the left,  agree=0.701, adj=0.296, (0 split)\n",
            "      TotalCharges                    < -0.8083526 to the left,  agree=0.681, adj=0.251, (0 split)\n",
            "      StreamingTV                     < 0.5        to the left,  agree=0.666, adj=0.216, (0 split)\n",
            "\n",
            "Node number 6: 1021 observations\n",
            "  predicted class=0  expected loss=0.2967679  P(node) =0.207436\n",
            "    class counts:   718   303\n",
            "   probabilities: 0.703 0.297 \n",
            "\n",
            "Node number 7: 756 observations\n",
            "  predicted class=1  expected loss=0.3095238  P(node) =0.1535961\n",
            "    class counts:   234   522\n",
            "   probabilities: 0.310 0.690 \n",
            "\n"
          ],
          "name": "stdout"
        }
      ]
    },
    {
      "cell_type": "markdown",
      "metadata": {
        "_uuid": "e47111a5199b1df96c023fea7f1f2a9f16fbcd7d",
        "id": "vT5jvXoBGdVl"
      },
      "source": [
        "*** Checking the Confusion Matrix**"
      ]
    },
    {
      "cell_type": "code",
      "metadata": {
        "_uuid": "4ea2f7360e1d00c62052f7bb7512cd8bd8473343",
        "trusted": true,
        "colab": {
          "base_uri": "https://localhost:8080/",
          "height": 476
        },
        "id": "0sKs0I9LGdVl",
        "outputId": "3e2d538e-e4df-4bba-e96b-da2d521db4bc"
      },
      "source": [
        "confusionMatrix(validation$Churn, DTPred)"
      ],
      "execution_count": null,
      "outputs": [
        {
          "output_type": "display_data",
          "data": {
            "text/plain": [
              "Confusion Matrix and Statistics\n",
              "\n",
              "          Reference\n",
              "Prediction    0    1\n",
              "         0 1435  114\n",
              "         1  343  218\n",
              "                                          \n",
              "               Accuracy : 0.7834          \n",
              "                 95% CI : (0.7652, 0.8008)\n",
              "    No Information Rate : 0.8427          \n",
              "    P-Value [Acc > NIR] : 1               \n",
              "                                          \n",
              "                  Kappa : 0.3621          \n",
              "                                          \n",
              " Mcnemar's Test P-Value : <2e-16          \n",
              "                                          \n",
              "            Sensitivity : 0.8071          \n",
              "            Specificity : 0.6566          \n",
              "         Pos Pred Value : 0.9264          \n",
              "         Neg Pred Value : 0.3886          \n",
              "             Prevalence : 0.8427          \n",
              "         Detection Rate : 0.6801          \n",
              "   Detection Prevalence : 0.7341          \n",
              "      Balanced Accuracy : 0.7319          \n",
              "                                          \n",
              "       'Positive' Class : 0               \n",
              "                                          "
            ]
          },
          "metadata": {
            "tags": []
          }
        }
      ]
    },
    {
      "cell_type": "markdown",
      "metadata": {
        "_uuid": "88685d22e7abf7d936a5b61d7f13259f7cff18eb",
        "id": "Z7_B6zqsGdVl"
      },
      "source": [
        "The decision tree model (accuracy - 78.1%) gives slightly better accuracy with respect to the logistic regression model (accuracy 75%). "
      ]
    },
    {
      "cell_type": "markdown",
      "metadata": {
        "_uuid": "09f57f72f0ea41a83024ddde7f1b7e021f664325",
        "id": "EGo-hPeGGdVl"
      },
      "source": [
        "**MODEL BUILDING 3:**\n",
        "\n",
        "**RANDOM FOREST**"
      ]
    },
    {
      "cell_type": "code",
      "metadata": {
        "colab": {
          "base_uri": "https://localhost:8080/"
        },
        "id": "HzVf02qefiie",
        "outputId": "a10a1253-18a1-4c2b-d2db-76c451c5f431"
      },
      "source": [
        "install.packages(\"randomForest\")"
      ],
      "execution_count": null,
      "outputs": [
        {
          "output_type": "stream",
          "text": [
            "Installing package into ‘/usr/local/lib/R/site-library’\n",
            "(as ‘lib’ is unspecified)\n",
            "\n"
          ],
          "name": "stderr"
        }
      ]
    },
    {
      "cell_type": "code",
      "metadata": {
        "_uuid": "1efca4613d12579908ef1b38f677c9b1fca513b8",
        "trusted": true,
        "colab": {
          "base_uri": "https://localhost:8080/"
        },
        "id": "aHi0E6Z6GdVm",
        "outputId": "c83cdd1c-cf89-4d90-db86-2c4c5a34a6ae"
      },
      "source": [
        "library(randomForest)\n",
        "set.seed(123)\n",
        "telco_final$Churn <- as.factor(telco_final$Churn)\n",
        "\n",
        "indices = sample.split(telco_final$Churn, SplitRatio = 0.7)\n",
        "train = telco_final[indices,]\n",
        "validation = telco_final[!(indices),]"
      ],
      "execution_count": null,
      "outputs": [
        {
          "output_type": "stream",
          "text": [
            "randomForest 4.6-14\n",
            "\n",
            "Type rfNews() to see new features/changes/bug fixes.\n",
            "\n",
            "\n",
            "Attaching package: ‘randomForest’\n",
            "\n",
            "\n",
            "The following object is masked from ‘package:dplyr’:\n",
            "\n",
            "    combine\n",
            "\n",
            "\n",
            "The following object is masked from ‘package:ggplot2’:\n",
            "\n",
            "    margin\n",
            "\n",
            "\n"
          ],
          "name": "stderr"
        }
      ]
    },
    {
      "cell_type": "markdown",
      "metadata": {
        "_uuid": "2477e1498954fdac9cd95b5d2b8488e8272c8139",
        "id": "Sc63s9z0GdVm"
      },
      "source": [
        "The OOB error estimate comes to around 20.87%, so the model has around 79% out of sample accuracy for the training set. Let's check the prediction and accuracy on our validation data."
      ]
    },
    {
      "cell_type": "code",
      "metadata": {
        "_uuid": "fe71aca588e0df76d9a1a15202096f01cc04b7ae",
        "trusted": true,
        "colab": {
          "base_uri": "https://localhost:8080/",
          "height": 241
        },
        "id": "zBNfBz8fGdVm",
        "outputId": "02f62971-460b-4225-b5ed-ebd67b148f53"
      },
      "source": [
        "#Training the RandomForest Model\n",
        "\n",
        "model.rf <- randomForest(Churn ~ ., data=train, proximity=FALSE,importance = FALSE,\n",
        "                        ntree=500,mtry=4, do.trace=FALSE)\n",
        "model.rf"
      ],
      "execution_count": null,
      "outputs": [
        {
          "output_type": "display_data",
          "data": {
            "text/plain": [
              "\n",
              "Call:\n",
              " randomForest(formula = Churn ~ ., data = train, proximity = FALSE,      importance = FALSE, ntree = 500, mtry = 4, do.trace = FALSE) \n",
              "               Type of random forest: classification\n",
              "                     Number of trees: 500\n",
              "No. of variables tried at each split: 4\n",
              "\n",
              "        OOB estimate of  error rate: 19.59%\n",
              "Confusion matrix:\n",
              "     0   1 class.error\n",
              "0 3258 356  0.09850581\n",
              "1  608 700  0.46483180"
            ]
          },
          "metadata": {
            "tags": []
          }
        }
      ]
    },
    {
      "cell_type": "markdown",
      "metadata": {
        "_uuid": "5253c5b0947cd9f91f19b59898f6ca421e9ef8d3",
        "id": "_V_1zyJ-GdVm"
      },
      "source": [
        "The basic RandomForest model gives an accuracy of 78.86%( almost close enough to the OOB estimate),  Sensitivity 82.46% and Specificity 63.99%.,"
      ]
    },
    {
      "cell_type": "code",
      "metadata": {
        "_uuid": "2b957efde15aa9a4b1bf8cb6c7abdb8d9aef92dd",
        "trusted": true,
        "colab": {
          "base_uri": "https://localhost:8080/",
          "height": 544
        },
        "id": "5i3NEHpzGdVm",
        "outputId": "2dad8d4d-df87-482e-ac29-fbd3bbc54b0a"
      },
      "source": [
        "#Predicting on the validation set and checking the Confusion Matrix.\n",
        "testPred <- predict(model.rf, newdata=validation[,-24])\n",
        "table(testPred, validation$Churn)\n",
        "\n",
        "confusionMatrix(validation$Churn, testPred)"
      ],
      "execution_count": null,
      "outputs": [
        {
          "output_type": "display_data",
          "data": {
            "text/plain": [
              "        \n",
              "testPred    0    1\n",
              "       0 1392  283\n",
              "       1  157  278"
            ]
          },
          "metadata": {
            "tags": []
          }
        },
        {
          "output_type": "display_data",
          "data": {
            "text/plain": [
              "Confusion Matrix and Statistics\n",
              "\n",
              "          Reference\n",
              "Prediction    0    1\n",
              "         0 1392  157\n",
              "         1  283  278\n",
              "                                          \n",
              "               Accuracy : 0.7915          \n",
              "                 95% CI : (0.7735, 0.8086)\n",
              "    No Information Rate : 0.7938          \n",
              "    P-Value [Acc > NIR] : 0.6182          \n",
              "                                          \n",
              "                  Kappa : 0.4246          \n",
              "                                          \n",
              " Mcnemar's Test P-Value : 2.536e-09       \n",
              "                                          \n",
              "            Sensitivity : 0.8310          \n",
              "            Specificity : 0.6391          \n",
              "         Pos Pred Value : 0.8986          \n",
              "         Neg Pred Value : 0.4955          \n",
              "             Prevalence : 0.7938          \n",
              "         Detection Rate : 0.6597          \n",
              "   Detection Prevalence : 0.7341          \n",
              "      Balanced Accuracy : 0.7351          \n",
              "                                          \n",
              "       'Positive' Class : 0               \n",
              "                                          "
            ]
          },
          "metadata": {
            "tags": []
          }
        }
      ]
    },
    {
      "cell_type": "markdown",
      "metadata": {
        "_uuid": "b83df07c5da5be9993e3c01e9d59ca5bacf9fce7",
        "id": "pBK3oFaUGdVm"
      },
      "source": [
        "*Variable Importance Plot:*\n",
        "\n",
        "Below is the variable importance plot, that shows the most significant attribute in decreasing order by mean decrease in Gini. The Mean decrease Gini measures how pure the nodes are at the end of the tree. Higher the Gini Index, better is the homogeneity."
      ]
    },
    {
      "cell_type": "code",
      "metadata": {
        "_uuid": "628ba9fb98ebb93f9a9428e4da9d752f14f6a6f3",
        "trusted": true,
        "colab": {
          "base_uri": "https://localhost:8080/",
          "height": 497
        },
        "id": "F6nsDDsLGdVn",
        "outputId": "b38030cb-df5a-4042-c886-151aea83eeac"
      },
      "source": [
        "#Checking the variable Importance Plot\n",
        "varImpPlot(model.rf)"
      ],
      "execution_count": null,
      "outputs": [
        {
          "output_type": "display_data",
          "data": {
            "image/png": "[encoded data removed]",
            "text/plain": [
              "Plot with title “model.rf”"
            ]
          },
          "metadata": {
            "tags": [],
            "image/png": {
              "width": 600,
              "height": 480
            }
          }
        }
      ]
    },
    {
      "cell_type": "markdown",
      "metadata": {
        "_uuid": "00f2826bd07bcd858d726576fcfbbfcb0e7eaa79",
        "id": "50zDOlGJGdVn"
      },
      "source": [
        "**Checking the AUC for all three models:**\n",
        "\n"
      ]
    },
    {
      "cell_type": "code",
      "metadata": {
        "_uuid": "09525b25a6fdc0997364398b9d53f36476494359",
        "trusted": true,
        "colab": {
          "base_uri": "https://localhost:8080/",
          "height": 701
        },
        "id": "6L9lnqJXGdVn",
        "outputId": "6d9e1512-26da-4158-9dee-8cb082269d04"
      },
      "source": [
        "options(repr.plot.width =10, repr.plot.height = 8)\n",
        "\n",
        "glm.roc <- roc(response = validation$Churn, predictor = as.numeric(pred))\n",
        "DT.roc <- roc(response = validation$Churn, predictor = as.numeric(DTPred))\n",
        "rf.roc <- roc(response = validation$Churn, predictor = as.numeric(testPred))\n",
        "\n",
        "plot(glm.roc,      legacy.axes = TRUE, print.auc.y = 1.0, print.auc = TRUE)\n",
        "plot(DT.roc, col = \"blue\", add = TRUE, print.auc.y = 0.65, print.auc = TRUE)\n",
        "plot(rf.roc, col = \"red\" , add = TRUE, print.auc.y = 0.85, print.auc = TRUE)\n",
        "legend(\"bottom\", c(\"Random Forest\", \"Decision Tree\", \"Logistic\"),\n",
        "       lty = c(1,1), lwd = c(2, 2), col = c(\"red\", \"blue\", \"black\"), cex = 0.75)"
      ],
      "execution_count": null,
      "outputs": [
        {
          "output_type": "stream",
          "text": [
            "Setting levels: control = 0, case = 1\n",
            "\n",
            "Setting direction: controls < cases\n",
            "\n",
            "Setting levels: control = 0, case = 1\n",
            "\n",
            "Setting direction: controls < cases\n",
            "\n",
            "Setting levels: control = 0, case = 1\n",
            "\n",
            "Setting direction: controls < cases\n",
            "\n"
          ],
          "name": "stderr"
        },
        {
          "output_type": "display_data",
          "data": {
            "image/png": "[encoded data removed]",
            "text/plain": [
              "plot without title"
            ]
          },
          "metadata": {
            "tags": [],
            "image/png": {
              "width": 600,
              "height": 480
            }
          }
        }
      ]
    }
  ]
}